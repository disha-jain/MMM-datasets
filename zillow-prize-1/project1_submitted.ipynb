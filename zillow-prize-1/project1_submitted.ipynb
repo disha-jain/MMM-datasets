{
 "cells": [
  {
   "cell_type": "markdown",
   "metadata": {},
   "source": [
    "Disha Jain - dj9am\n",
    "Sameer Gupta - sg4vh\n",
    "Jason Quinn - jtq5ba\n",
    "Sindhu Ranga - sgr7va"
   ]
  },
  {
   "cell_type": "markdown",
   "metadata": {},
   "source": [
    "## Project 1: Housing Price Prediction"
   ]
  },
  {
   "cell_type": "markdown",
   "metadata": {},
   "source": [
    "<div class=\"alert alert-block alert-danger\">\n",
    "<b>Due: 9:29am, Tuesday, 21 January 2020</b>\n",
    "</div>\n",
    "\n",
    "Price prediction is one the key ingredients in market design and\n",
    "market competition. An important feature of the price in a competitive\n",
    "market is that it arises as an outcome of the market equilibrium where\n",
    "supply is equal to demand. As a result, factors that may be good\n",
    "predictors of the price, such as the volume of market sales, do not\n",
    "have a causal relationship with it.\n",
    "\n",
    "The distinction between factors that have good predictive power and\n",
    "causal factors becomes particularly important when prediction is\n",
    "needed in the changing market settings.  For instance, the change in\n",
    "average disposable consumer income shifts market demand, causing the\n",
    "change in both the prices and the volume of sales. Accounting for\n",
    "market conditions, substitution between products and variation in\n",
    "consumer demographics makes such predictions even more challenging in\n",
    "complex markets, such as the market for real estate.\n",
    "\n",
    "In your first project you are tasked with constructing a model for predicting the median price of a detached 3-bedroom single-family home in the US. We provide some starting code to give you and example of how to analyze the zillow data. Then, you need to perform your own analysis to answer the given questions. Your answers should be in the form of a clear argument that includes both well-written prose and code and its results (when the notebook is run).\n",
    "\n",
    "<div class=\"alert alert-block alert-info\">\n",
    "You and your team members should work together on this\n",
    "assignment. Both team members should fully understand everything you\n",
    "submit.  If there are parts you understand quickly but are new to your\n",
    "partners, it is your responsibility to explain them to your partners\n",
    "until everyone understands. If there are parts that your partners\n",
    "understands quickly but that are new to you, it is your responsibility\n",
    "to insist that your partners explain things to you until you\n",
    "understand them well.\n",
    "</div>\n",
    "\n",
    "### Data\n",
    "\n",
    "We will use data provided by Zillow: https://www.kaggle.com/c/zillow-prize-1/\n",
    "\n",
    "<div class=\"alert alert-block alert-warning\">\n",
    "Download the data you need for this assignment from:\n",
    "Collab/Resources/Datasets\n",
    "</div>\n",
    "\n",
    "This file contains two `.csv` (comma-separated values) files, and one Excel directory file. Unzip the file to extract the CSV files into a directory of your choice.\n",
    "\n",
    "### Libraries\n",
    "\n",
    "You will find it useful to install several relevant libraries for this project (which will also be useful for later projects). \n",
    "\n",
    "We recommend using these libraries (but you are welcome to use any open source libraries you prefer):\n",
    "\n",
    "- [pandas](https://pandas.pydata.org/) (Python Data Analysis Library):\n",
    "````\n",
    "conda install pandas\n",
    "````\n",
    "\n",
    "- [numpy](http://www.numpy.org/) (if you installed Anaconda, this should already be installed; if not, follow the directions there)\n",
    "\n",
    "- [StatsModels](https://www.statsmodels.org/stable/index.html) \n",
    "````\n",
    "conda install statsmodels\n",
    "````\n",
    "\n",
    "<div class=\"alert alert-block alert-warning\">\n",
    "All members on your team should set up the data and these libraries on your own machine, so you can each run things locally.  You should also decide on a way to share the `project1.ipynb` file (its up to you how to do this, but recommended options include using Dropbox, Google Drive, or a shared private github repository).\n",
    "</div>\n",
    "\n",
    "Import the libraries and give them abbreviated names:"
   ]
  },
  {
   "cell_type": "code",
   "execution_count": 1,
   "metadata": {},
   "outputs": [],
   "source": [
    "import pandas as pd\n",
    "import numpy as np\n",
    "import statsmodels.api as sm"
   ]
  },
  {
   "cell_type": "markdown",
   "metadata": {},
   "source": [
    "### Example Analysis\n",
    "\n",
    "We choose two consecutive months arbitrariliy. We use the first month's data to fit our regression model, and then test our model's performance on data from the next month. Here, we use July 2017 and August 2017."
   ]
  },
  {
   "cell_type": "code",
   "execution_count": 2,
   "metadata": {},
   "outputs": [],
   "source": [
    "month1 = [7] # month1 = July\n",
    "month2 = [8] # month2 = August"
   ]
  },
  {
   "cell_type": "markdown",
   "metadata": {},
   "source": [
    "Total taxable value of the property is typically a good proxy for its market value. We use it as an outcome variable."
   ]
  },
  {
   "cell_type": "code",
   "execution_count": 4,
   "metadata": {
    "scrolled": false
   },
   "outputs": [
    {
     "name": "stderr",
     "output_type": "stream",
     "text": [
      "/usr/local/anaconda3/lib/python3.7/site-packages/IPython/core/interactiveshell.py:3058: DtypeWarning: Columns (49) have mixed types. Specify dtype option on import or set low_memory=False.\n",
      "  interactivity=interactivity, compiler=compiler, result=result)\n"
     ]
    }
   ],
   "source": [
    "# load the data, use the directory where you saved the data\n",
    "df_properties = pd.read_csv('properties_2017.csv') \n",
    "df_train = pd.read_csv('train_2017.csv', parse_dates=[\"transactiondate\"])\n",
    "\n",
    "df_train['transactionmonth'] = df_train['transactiondate'].dt.month # create a new column indicating the month\n",
    "df_merged = pd.merge(df_train, df_properties, on='parcelid', how='left') # merge two loaded files"
   ]
  },
  {
   "cell_type": "markdown",
   "metadata": {},
   "source": [
    "Split the dataframe into `month1` and `month2`:"
   ]
  },
  {
   "cell_type": "code",
   "execution_count": 5,
   "metadata": {},
   "outputs": [],
   "source": [
    "df_month1 = df_merged[df_merged['transactionmonth'].isin(month1)]  # save the data of July\n",
    "df_month2 = df_merged[df_merged['transactionmonth'].isin(month2)]  # save the data of August\n",
    "\n",
    "df_month1 = df_month1.fillna(0) # Be careful when you deal with blank observations. Here we substitute with 0 because we use only the number of the bedroom\n",
    "df_month2 = df_month2.fillna(0)"
   ]
  },
  {
   "cell_type": "markdown",
   "metadata": {},
   "source": [
    "For each month, create an independent variable (`x`) with the predictive variables, and a dependent variable (`y`)."
   ]
  },
  {
   "cell_type": "code",
   "execution_count": 6,
   "metadata": {},
   "outputs": [],
   "source": [
    "y_month1 = df_month1['taxvaluedollarcnt']\n",
    "x_month1 = df_month1['bedroomcnt']\n",
    "y_month2 = df_month2['taxvaluedollarcnt']\n",
    "x_month2 = df_month2['bedroomcnt']"
   ]
  },
  {
   "cell_type": "markdown",
   "metadata": {},
   "source": [
    "Now fit the linear regression model on `month1`'s data:"
   ]
  },
  {
   "cell_type": "code",
   "execution_count": 7,
   "metadata": {
    "scrolled": true
   },
   "outputs": [
    {
     "name": "stdout",
     "output_type": "stream",
     "text": [
      "                                 OLS Regression Results                                \n",
      "=======================================================================================\n",
      "Dep. Variable:      taxvaluedollarcnt   R-squared (uncentered):                   0.430\n",
      "Model:                            OLS   Adj. R-squared (uncentered):              0.430\n",
      "Method:                 Least Squares   F-statistic:                              7164.\n",
      "Date:                Mon, 20 Jan 2020   Prob (F-statistic):                        0.00\n",
      "Time:                        14:15:51   Log-Likelihood:                     -1.3960e+05\n",
      "No. Observations:                9490   AIC:                                  2.792e+05\n",
      "Df Residuals:                    9489   BIC:                                  2.792e+05\n",
      "Df Model:                           1                                                  \n",
      "Covariance Type:            nonrobust                                                  \n",
      "==============================================================================\n",
      "                 coef    std err          t      P>|t|      [0.025      0.975]\n",
      "------------------------------------------------------------------------------\n",
      "bedroomcnt   1.57e+05   1855.121     84.638      0.000    1.53e+05    1.61e+05\n",
      "==============================================================================\n",
      "Omnibus:                    13361.811   Durbin-Watson:                   2.002\n",
      "Prob(Omnibus):                  0.000   Jarque-Bera (JB):          6367995.006\n",
      "Skew:                           8.115   Prob(JB):                         0.00\n",
      "Kurtosis:                     128.862   Cond. No.                         1.00\n",
      "==============================================================================\n",
      "\n",
      "Warnings:\n",
      "[1] Standard Errors assume that the covariance matrix of the errors is correctly specified.\n"
     ]
    }
   ],
   "source": [
    "model = sm.OLS(y_month1, x_month1).fit()  # fit the model\n",
    "print(model.summary())      # print a summary of results"
   ]
  },
  {
   "cell_type": "markdown",
   "metadata": {},
   "source": [
    "Predict month2's taxable assessment of a home using the model fitted above:"
   ]
  },
  {
   "cell_type": "code",
   "execution_count": 8,
   "metadata": {},
   "outputs": [],
   "source": [
    "yhat = model.predict(x_month2)"
   ]
  },
  {
   "cell_type": "markdown",
   "metadata": {},
   "source": [
    "Calculate mean squared error (MSE), variance and r-squared:"
   ]
  },
  {
   "cell_type": "code",
   "execution_count": 9,
   "metadata": {
    "scrolled": true
   },
   "outputs": [
    {
     "name": "stdout",
     "output_type": "stream",
     "text": [
      "MSE:  309344169217.8261\n",
      "Variance:  329449869767.6554\n",
      "R-squared:  0.061028102891674596\n"
     ]
    }
   ],
   "source": [
    "# MSE\n",
    "serror = np.square(y_month2 - yhat)\n",
    "mse = np.mean(serror)\n",
    "print(\"MSE: \", mse)\n",
    "\n",
    "# Sample Variance\n",
    "ybar = y_month2.mean()\n",
    "variance = np.mean((y_month2 - ybar)**2)\n",
    "print(\"Variance: \", variance)\n",
    "\n",
    "# Explanation of variance\n",
    "# this is the r-squared \n",
    "rsq = 1 - (mse / variance)\n",
    "print(\"R-squared: \", rsq)"
   ]
  },
  {
   "cell_type": "markdown",
   "metadata": {},
   "source": [
    "### Assignment\n",
    "\n",
    "You should complete the assignment by inserting cells in the notebook with your answers to these questions, including both prose and code you used for your analysis.\n",
    "\n",
    "<div class=\"alert alert-block alert-warning\">\n",
    "Construct and estimate a linear regression model to predict the taxable value of 3-bedroom homes.\n",
    "</div>\n",
    "\n",
    "Provide an argument which variables can potentially be good predictors for the value of interest and try to estimate the linear regression with all those variables included. Discuss which models you have considered estimating but decided to discard and why. Present and discuss the outcome of that estimation.  \n",
    "\n",
    "\n",
    "   "
   ]
  },
  {
   "cell_type": "code",
   "execution_count": 12,
   "metadata": {},
   "outputs": [
    {
     "data": {
      "text/html": [
       "<div>\n",
       "<style scoped>\n",
       "    .dataframe tbody tr th:only-of-type {\n",
       "        vertical-align: middle;\n",
       "    }\n",
       "\n",
       "    .dataframe tbody tr th {\n",
       "        vertical-align: top;\n",
       "    }\n",
       "\n",
       "    .dataframe thead th {\n",
       "        text-align: right;\n",
       "    }\n",
       "</style>\n",
       "<table border=\"1\" class=\"dataframe\">\n",
       "  <thead>\n",
       "    <tr style=\"text-align: right;\">\n",
       "      <th></th>\n",
       "      <th>parcelid</th>\n",
       "      <th>logerror</th>\n",
       "      <th>transactiondate</th>\n",
       "      <th>transactionmonth</th>\n",
       "      <th>airconditioningtypeid</th>\n",
       "      <th>architecturalstyletypeid</th>\n",
       "      <th>basementsqft</th>\n",
       "      <th>bathroomcnt</th>\n",
       "      <th>bedroomcnt</th>\n",
       "      <th>buildingclasstypeid</th>\n",
       "      <th>...</th>\n",
       "      <th>numberofstories</th>\n",
       "      <th>fireplaceflag</th>\n",
       "      <th>structuretaxvaluedollarcnt</th>\n",
       "      <th>taxvaluedollarcnt</th>\n",
       "      <th>assessmentyear</th>\n",
       "      <th>landtaxvaluedollarcnt</th>\n",
       "      <th>taxamount</th>\n",
       "      <th>taxdelinquencyflag</th>\n",
       "      <th>taxdelinquencyyear</th>\n",
       "      <th>censustractandblock</th>\n",
       "    </tr>\n",
       "  </thead>\n",
       "  <tbody>\n",
       "    <tr>\n",
       "      <td>0</td>\n",
       "      <td>14297519</td>\n",
       "      <td>0.025595</td>\n",
       "      <td>2017-01-01</td>\n",
       "      <td>1</td>\n",
       "      <td>NaN</td>\n",
       "      <td>NaN</td>\n",
       "      <td>NaN</td>\n",
       "      <td>3.5</td>\n",
       "      <td>4.0</td>\n",
       "      <td>NaN</td>\n",
       "      <td>...</td>\n",
       "      <td>NaN</td>\n",
       "      <td>NaN</td>\n",
       "      <td>485713.0</td>\n",
       "      <td>1023282.0</td>\n",
       "      <td>2016.0</td>\n",
       "      <td>537569.0</td>\n",
       "      <td>11013.72</td>\n",
       "      <td>NaN</td>\n",
       "      <td>NaN</td>\n",
       "      <td>6.059063e+13</td>\n",
       "    </tr>\n",
       "    <tr>\n",
       "      <td>1</td>\n",
       "      <td>17052889</td>\n",
       "      <td>0.055619</td>\n",
       "      <td>2017-01-01</td>\n",
       "      <td>1</td>\n",
       "      <td>NaN</td>\n",
       "      <td>NaN</td>\n",
       "      <td>NaN</td>\n",
       "      <td>1.0</td>\n",
       "      <td>2.0</td>\n",
       "      <td>NaN</td>\n",
       "      <td>...</td>\n",
       "      <td>1.0</td>\n",
       "      <td>NaN</td>\n",
       "      <td>88000.0</td>\n",
       "      <td>464000.0</td>\n",
       "      <td>2016.0</td>\n",
       "      <td>376000.0</td>\n",
       "      <td>5672.48</td>\n",
       "      <td>NaN</td>\n",
       "      <td>NaN</td>\n",
       "      <td>6.111001e+13</td>\n",
       "    </tr>\n",
       "    <tr>\n",
       "      <td>2</td>\n",
       "      <td>14186244</td>\n",
       "      <td>0.005383</td>\n",
       "      <td>2017-01-01</td>\n",
       "      <td>1</td>\n",
       "      <td>NaN</td>\n",
       "      <td>NaN</td>\n",
       "      <td>NaN</td>\n",
       "      <td>2.0</td>\n",
       "      <td>3.0</td>\n",
       "      <td>NaN</td>\n",
       "      <td>...</td>\n",
       "      <td>1.0</td>\n",
       "      <td>NaN</td>\n",
       "      <td>85289.0</td>\n",
       "      <td>564778.0</td>\n",
       "      <td>2016.0</td>\n",
       "      <td>479489.0</td>\n",
       "      <td>6488.30</td>\n",
       "      <td>NaN</td>\n",
       "      <td>NaN</td>\n",
       "      <td>6.059022e+13</td>\n",
       "    </tr>\n",
       "    <tr>\n",
       "      <td>3</td>\n",
       "      <td>12177905</td>\n",
       "      <td>-0.103410</td>\n",
       "      <td>2017-01-01</td>\n",
       "      <td>1</td>\n",
       "      <td>NaN</td>\n",
       "      <td>NaN</td>\n",
       "      <td>NaN</td>\n",
       "      <td>3.0</td>\n",
       "      <td>4.0</td>\n",
       "      <td>NaN</td>\n",
       "      <td>...</td>\n",
       "      <td>NaN</td>\n",
       "      <td>NaN</td>\n",
       "      <td>108918.0</td>\n",
       "      <td>145143.0</td>\n",
       "      <td>2016.0</td>\n",
       "      <td>36225.0</td>\n",
       "      <td>1777.51</td>\n",
       "      <td>NaN</td>\n",
       "      <td>NaN</td>\n",
       "      <td>6.037300e+13</td>\n",
       "    </tr>\n",
       "    <tr>\n",
       "      <td>4</td>\n",
       "      <td>10887214</td>\n",
       "      <td>0.006940</td>\n",
       "      <td>2017-01-01</td>\n",
       "      <td>1</td>\n",
       "      <td>1.0</td>\n",
       "      <td>NaN</td>\n",
       "      <td>NaN</td>\n",
       "      <td>3.0</td>\n",
       "      <td>3.0</td>\n",
       "      <td>NaN</td>\n",
       "      <td>...</td>\n",
       "      <td>NaN</td>\n",
       "      <td>NaN</td>\n",
       "      <td>73681.0</td>\n",
       "      <td>119407.0</td>\n",
       "      <td>2016.0</td>\n",
       "      <td>45726.0</td>\n",
       "      <td>1533.89</td>\n",
       "      <td>NaN</td>\n",
       "      <td>NaN</td>\n",
       "      <td>6.037124e+13</td>\n",
       "    </tr>\n",
       "  </tbody>\n",
       "</table>\n",
       "<p>5 rows × 61 columns</p>\n",
       "</div>"
      ],
      "text/plain": [
       "   parcelid  logerror transactiondate  transactionmonth  \\\n",
       "0  14297519  0.025595      2017-01-01                 1   \n",
       "1  17052889  0.055619      2017-01-01                 1   \n",
       "2  14186244  0.005383      2017-01-01                 1   \n",
       "3  12177905 -0.103410      2017-01-01                 1   \n",
       "4  10887214  0.006940      2017-01-01                 1   \n",
       "\n",
       "   airconditioningtypeid  architecturalstyletypeid  basementsqft  bathroomcnt  \\\n",
       "0                    NaN                       NaN           NaN          3.5   \n",
       "1                    NaN                       NaN           NaN          1.0   \n",
       "2                    NaN                       NaN           NaN          2.0   \n",
       "3                    NaN                       NaN           NaN          3.0   \n",
       "4                    1.0                       NaN           NaN          3.0   \n",
       "\n",
       "   bedroomcnt  buildingclasstypeid  ...  numberofstories  fireplaceflag  \\\n",
       "0         4.0                  NaN  ...              NaN            NaN   \n",
       "1         2.0                  NaN  ...              1.0            NaN   \n",
       "2         3.0                  NaN  ...              1.0            NaN   \n",
       "3         4.0                  NaN  ...              NaN            NaN   \n",
       "4         3.0                  NaN  ...              NaN            NaN   \n",
       "\n",
       "   structuretaxvaluedollarcnt  taxvaluedollarcnt  assessmentyear  \\\n",
       "0                    485713.0          1023282.0          2016.0   \n",
       "1                     88000.0           464000.0          2016.0   \n",
       "2                     85289.0           564778.0          2016.0   \n",
       "3                    108918.0           145143.0          2016.0   \n",
       "4                     73681.0           119407.0          2016.0   \n",
       "\n",
       "   landtaxvaluedollarcnt  taxamount  taxdelinquencyflag  taxdelinquencyyear  \\\n",
       "0               537569.0   11013.72                 NaN                 NaN   \n",
       "1               376000.0    5672.48                 NaN                 NaN   \n",
       "2               479489.0    6488.30                 NaN                 NaN   \n",
       "3                36225.0    1777.51                 NaN                 NaN   \n",
       "4                45726.0    1533.89                 NaN                 NaN   \n",
       "\n",
       "   censustractandblock  \n",
       "0         6.059063e+13  \n",
       "1         6.111001e+13  \n",
       "2         6.059022e+13  \n",
       "3         6.037300e+13  \n",
       "4         6.037124e+13  \n",
       "\n",
       "[5 rows x 61 columns]"
      ]
     },
     "execution_count": 12,
     "metadata": {},
     "output_type": "execute_result"
    }
   ],
   "source": [
    "df_merged.head()"
   ]
  },
  {
   "cell_type": "code",
   "execution_count": 135,
   "metadata": {},
   "outputs": [],
   "source": [
    "try:\n",
    "    from sklearn.preprocessing import OrdinalEncoder # just to raise an ImportError if Scikit-Learn < 0.20\n",
    "    from sklearn.preprocessing import OneHotEncoder\n",
    "except ImportError:\n",
    "    from future_encoders import OneHotEncoder # Scikit-Learn < 0.20\n",
    "\n",
    "    \n",
    "try:\n",
    "    from sklearn.compose import ColumnTransformer\n",
    "except ImportError:\n",
    "    from future_encoders import ColumnTransformer # Scikit-Learn < 0.20\n",
    "    \n",
    "try:\n",
    "    from sklearn.impute import SimpleImputer # Scikit-Learn 0.20+\n",
    "except ImportError:\n",
    "    from sklearn.preprocessing import Imputer as SimpleImputer\n",
    "\n",
    "num_attribs = ['calculatedbathnbr', 'basementsqft', 'finishedsquarefeet12','fireplacecnt','garagetotalsqft','buildingqualitytypeid']\n"
   ]
  },
  {
   "cell_type": "code",
   "execution_count": 136,
   "metadata": {},
   "outputs": [
    {
     "data": {
      "text/plain": [
       "taxvaluedollarcnt               1.000000\n",
       "taxamount                       0.990001\n",
       "landtaxvaluedollarcnt           0.957909\n",
       "structuretaxvaluedollarcnt      0.796731\n",
       "finishedsquarefeet12            0.592820\n",
       "calculatedfinishedsquarefeet    0.583155\n",
       "finishedfloor1squarefeet        0.565043\n",
       "finishedsquarefeet50            0.559625\n",
       "basementsqft                    0.493777\n",
       "calculatedbathnbr               0.484819\n",
       "fullbathcnt                     0.472832\n",
       "bathroomcnt                     0.461013\n",
       "fireplacecnt                    0.435830\n",
       "yardbuildingsqft17              0.401433\n",
       "garagetotalsqft                 0.345202\n",
       "garagecarcnt                    0.328466\n",
       "buildingqualitytypeid           0.327600\n",
       "finishedsquarefeet15            0.309188\n",
       "poolsizesum                     0.291222\n",
       "bedroomcnt                      0.239326\n",
       "threequarterbathnbr             0.169397\n",
       "numberofstories                 0.136264\n",
       "finishedsquarefeet6             0.119707\n",
       "yearbuilt                       0.119309\n",
       "typeconstructiontypeid          0.085360\n",
       "taxdelinquencyyear              0.067476\n",
       "regionidneighborhood            0.022010\n",
       "regionidzip                     0.014548\n",
       "parcelid                        0.012496\n",
       "unitcnt                         0.007422\n",
       "fips                            0.006256\n",
       "rawcensustractandblock          0.005643\n",
       "transactionmonth                0.005276\n",
       "architecturalstyletypeid        0.003567\n",
       "logerror                        0.003419\n",
       "airconditioningtypeid           0.002342\n",
       "roomcnt                         0.001960\n",
       "censustractandblock             0.001563\n",
       "lotsizesquarefeet              -0.022497\n",
       "regionidcity                   -0.024089\n",
       "longitude                      -0.032118\n",
       "propertylandusetypeid          -0.035930\n",
       "regionidcounty                 -0.039267\n",
       "yardbuildingsqft26             -0.047846\n",
       "finishedsquarefeet13           -0.061187\n",
       "latitude                       -0.098225\n",
       "heatingorsystemtypeid          -0.110031\n",
       "buildingclasstypeid            -0.299221\n",
       "decktypeid                           NaN\n",
       "poolcnt                              NaN\n",
       "pooltypeid10                         NaN\n",
       "pooltypeid2                          NaN\n",
       "pooltypeid7                          NaN\n",
       "storytypeid                          NaN\n",
       "assessmentyear                       NaN\n",
       "Name: taxvaluedollarcnt, dtype: float64"
      ]
     },
     "execution_count": 136,
     "metadata": {},
     "output_type": "execute_result"
    }
   ],
   "source": [
    "corr_matrix = df_merged.corr()\n",
    "corr_matrix[\"taxvaluedollarcnt\"].sort_values(ascending=False)"
   ]
  },
  {
   "cell_type": "code",
   "execution_count": 137,
   "metadata": {},
   "outputs": [
    {
     "data": {
      "text/html": [
       "<div>\n",
       "<style scoped>\n",
       "    .dataframe tbody tr th:only-of-type {\n",
       "        vertical-align: middle;\n",
       "    }\n",
       "\n",
       "    .dataframe tbody tr th {\n",
       "        vertical-align: top;\n",
       "    }\n",
       "\n",
       "    .dataframe thead th {\n",
       "        text-align: right;\n",
       "    }\n",
       "</style>\n",
       "<table border=\"1\" class=\"dataframe\">\n",
       "  <thead>\n",
       "    <tr style=\"text-align: right;\">\n",
       "      <th></th>\n",
       "      <th>calculatedbathnbr</th>\n",
       "      <th>basementsqft</th>\n",
       "      <th>finishedsquarefeet12</th>\n",
       "      <th>fireplacecnt</th>\n",
       "      <th>garagetotalsqft</th>\n",
       "      <th>buildingqualitytypeid</th>\n",
       "    </tr>\n",
       "  </thead>\n",
       "  <tbody>\n",
       "    <tr>\n",
       "      <td>2</td>\n",
       "      <td>2.0</td>\n",
       "      <td>NaN</td>\n",
       "      <td>1243.0</td>\n",
       "      <td>NaN</td>\n",
       "      <td>440.0</td>\n",
       "      <td>NaN</td>\n",
       "    </tr>\n",
       "    <tr>\n",
       "      <td>4</td>\n",
       "      <td>3.0</td>\n",
       "      <td>NaN</td>\n",
       "      <td>1312.0</td>\n",
       "      <td>NaN</td>\n",
       "      <td>NaN</td>\n",
       "      <td>8.0</td>\n",
       "    </tr>\n",
       "    <tr>\n",
       "      <td>5</td>\n",
       "      <td>2.0</td>\n",
       "      <td>NaN</td>\n",
       "      <td>1492.0</td>\n",
       "      <td>1.0</td>\n",
       "      <td>0.0</td>\n",
       "      <td>NaN</td>\n",
       "    </tr>\n",
       "    <tr>\n",
       "      <td>12</td>\n",
       "      <td>2.5</td>\n",
       "      <td>NaN</td>\n",
       "      <td>1337.0</td>\n",
       "      <td>NaN</td>\n",
       "      <td>0.0</td>\n",
       "      <td>NaN</td>\n",
       "    </tr>\n",
       "    <tr>\n",
       "      <td>13</td>\n",
       "      <td>2.5</td>\n",
       "      <td>NaN</td>\n",
       "      <td>1340.0</td>\n",
       "      <td>1.0</td>\n",
       "      <td>420.0</td>\n",
       "      <td>NaN</td>\n",
       "    </tr>\n",
       "  </tbody>\n",
       "</table>\n",
       "</div>"
      ],
      "text/plain": [
       "    calculatedbathnbr  basementsqft  finishedsquarefeet12  fireplacecnt  \\\n",
       "2                 2.0           NaN                1243.0           NaN   \n",
       "4                 3.0           NaN                1312.0           NaN   \n",
       "5                 2.0           NaN                1492.0           1.0   \n",
       "12                2.5           NaN                1337.0           NaN   \n",
       "13                2.5           NaN                1340.0           1.0   \n",
       "\n",
       "    garagetotalsqft  buildingqualitytypeid  \n",
       "2             440.0                    NaN  \n",
       "4               NaN                    8.0  \n",
       "5               0.0                    NaN  \n",
       "12              0.0                    NaN  \n",
       "13            420.0                    NaN  "
      ]
     },
     "execution_count": 137,
     "metadata": {},
     "output_type": "execute_result"
    }
   ],
   "source": [
    "df_merged_3bedrooms = df_merged[df_merged['bedroomcnt'] == 3]  # save the data of August\n",
    "df_merged_3bedrooms\n",
    "\n",
    "\n",
    "housing = df_merged_3bedrooms[num_attribs]\n",
    "housing.head()\n",
    "\n"
   ]
  },
  {
   "cell_type": "code",
   "execution_count": 138,
   "metadata": {},
   "outputs": [
    {
     "name": "stderr",
     "output_type": "stream",
     "text": [
      "/usr/local/anaconda3/lib/python3.7/site-packages/pandas/core/indexing.py:205: SettingWithCopyWarning: \n",
      "A value is trying to be set on a copy of a slice from a DataFrame\n",
      "\n",
      "See the caveats in the documentation: http://pandas.pydata.org/pandas-docs/stable/user_guide/indexing.html#returning-a-view-versus-a-copy\n",
      "  self._setitem_with_indexer(indexer, value)\n",
      "/usr/local/anaconda3/lib/python3.7/site-packages/ipykernel_launcher.py:4: SettingWithCopyWarning: \n",
      "A value is trying to be set on a copy of a slice from a DataFrame\n",
      "\n",
      "See the caveats in the documentation: http://pandas.pydata.org/pandas-docs/stable/user_guide/indexing.html#returning-a-view-versus-a-copy\n",
      "  after removing the cwd from sys.path.\n",
      "/usr/local/anaconda3/lib/python3.7/site-packages/ipykernel_launcher.py:5: SettingWithCopyWarning: \n",
      "A value is trying to be set on a copy of a slice from a DataFrame\n",
      "\n",
      "See the caveats in the documentation: http://pandas.pydata.org/pandas-docs/stable/user_guide/indexing.html#returning-a-view-versus-a-copy\n",
      "  \"\"\"\n",
      "/usr/local/anaconda3/lib/python3.7/site-packages/ipykernel_launcher.py:6: SettingWithCopyWarning: \n",
      "A value is trying to be set on a copy of a slice from a DataFrame\n",
      "\n",
      "See the caveats in the documentation: http://pandas.pydata.org/pandas-docs/stable/user_guide/indexing.html#returning-a-view-versus-a-copy\n",
      "  \n",
      "/usr/local/anaconda3/lib/python3.7/site-packages/ipykernel_launcher.py:7: SettingWithCopyWarning: \n",
      "A value is trying to be set on a copy of a slice from a DataFrame\n",
      "\n",
      "See the caveats in the documentation: http://pandas.pydata.org/pandas-docs/stable/user_guide/indexing.html#returning-a-view-versus-a-copy\n",
      "  import sys\n",
      "/usr/local/anaconda3/lib/python3.7/site-packages/ipykernel_launcher.py:8: SettingWithCopyWarning: \n",
      "A value is trying to be set on a copy of a slice from a DataFrame\n",
      "\n",
      "See the caveats in the documentation: http://pandas.pydata.org/pandas-docs/stable/user_guide/indexing.html#returning-a-view-versus-a-copy\n",
      "  \n",
      "/usr/local/anaconda3/lib/python3.7/site-packages/ipykernel_launcher.py:9: SettingWithCopyWarning: \n",
      "A value is trying to be set on a copy of a slice from a DataFrame\n",
      "\n",
      "See the caveats in the documentation: http://pandas.pydata.org/pandas-docs/stable/user_guide/indexing.html#returning-a-view-versus-a-copy\n",
      "  if __name__ == '__main__':\n"
     ]
    },
    {
     "data": {
      "text/html": [
       "<div>\n",
       "<style scoped>\n",
       "    .dataframe tbody tr th:only-of-type {\n",
       "        vertical-align: middle;\n",
       "    }\n",
       "\n",
       "    .dataframe tbody tr th {\n",
       "        vertical-align: top;\n",
       "    }\n",
       "\n",
       "    .dataframe thead th {\n",
       "        text-align: right;\n",
       "    }\n",
       "</style>\n",
       "<table border=\"1\" class=\"dataframe\">\n",
       "  <thead>\n",
       "    <tr style=\"text-align: right;\">\n",
       "      <th></th>\n",
       "      <th>calculatedbathnbr</th>\n",
       "      <th>basementsqft</th>\n",
       "      <th>finishedsquarefeet12</th>\n",
       "      <th>fireplacecnt</th>\n",
       "      <th>garagetotalsqft</th>\n",
       "      <th>buildingqualitytypeid</th>\n",
       "    </tr>\n",
       "  </thead>\n",
       "  <tbody>\n",
       "  </tbody>\n",
       "</table>\n",
       "</div>"
      ],
      "text/plain": [
       "Empty DataFrame\n",
       "Columns: [calculatedbathnbr, basementsqft, finishedsquarefeet12, fireplacecnt, garagetotalsqft, buildingqualitytypeid]\n",
       "Index: []"
      ]
     },
     "execution_count": 138,
     "metadata": {},
     "output_type": "execute_result"
    }
   ],
   "source": [
    "import math\n",
    "housing.loc[housing['garagetotalsqft'].isnull()]\n",
    "median = housing[\"calculatedbathnbr\"].median()\n",
    "housing.loc[housing['calculatedbathnbr'].isnull(), 'calculatedbathnbr'] = median\n",
    "housing.loc[housing['basementsqft'].isnull(), 'basementsqft'] =0\n",
    "housing.loc[housing['finishedsquarefeet12'].isnull(), 'finishedsquarefeet12'] = housing[\"finishedsquarefeet12\"].median()\n",
    "housing.loc[housing['buildingqualitytypeid'].isnull(), 'buildingqualitytypeid'] = 0\n",
    "housing.loc[housing['garagetotalsqft'].isnull(), 'garagetotalsqft'] = 0\n",
    "housing.loc[housing['fireplacecnt'].isnull(), 'fireplacecnt'] = 0\n",
    "\n",
    "incomplete_rows =  housing[housing.isnull().any(axis=1)]\n",
    "incomplete_rows\n",
    "\n",
    "\n"
   ]
  },
  {
   "cell_type": "code",
   "execution_count": 139,
   "metadata": {},
   "outputs": [
    {
     "data": {
      "text/plain": [
       "array([[2.000e+00, 0.000e+00, 1.243e+03, 0.000e+00, 4.400e+02, 0.000e+00],\n",
       "       [3.000e+00, 0.000e+00, 1.312e+03, 0.000e+00, 0.000e+00, 8.000e+00],\n",
       "       [2.000e+00, 0.000e+00, 1.492e+03, 1.000e+00, 0.000e+00, 0.000e+00],\n",
       "       ...,\n",
       "       [3.000e+00, 0.000e+00, 1.741e+03, 0.000e+00, 0.000e+00, 8.000e+00],\n",
       "       [1.000e+00, 0.000e+00, 1.032e+03, 0.000e+00, 0.000e+00, 4.000e+00],\n",
       "       [2.000e+00, 0.000e+00, 1.762e+03, 0.000e+00, 0.000e+00, 6.000e+00]])"
      ]
     },
     "execution_count": 139,
     "metadata": {},
     "output_type": "execute_result"
    }
   ],
   "source": [
    "full_pipeline = ColumnTransformer([\n",
    "        (\"num\", SimpleImputer(strategy=\"median\"), num_attribs),\n",
    "#         (\"cat\", OneHotEncoder(), cat_attribs),\n",
    "    ])\n",
    "housing = full_pipeline.fit_transform(housing)\n",
    "housing"
   ]
  },
  {
   "cell_type": "code",
   "execution_count": 159,
   "metadata": {},
   "outputs": [
    {
     "name": "stdout",
     "output_type": "stream",
     "text": [
      "MSE: 133338509829.28528\n",
      "RMSE: 365155.4598103187\n",
      "Scores: [376695.82588614 329630.87089521 370704.62373041 338043.41987295\n",
      " 378757.16509726 388277.52446632 372487.20470042 346258.6084735\n",
      " 344495.39581737 401012.2847421 ]\n",
      "count        10.000000\n",
      "mean     364636.292368\n",
      "std       23573.452396\n",
      "min      329630.870895\n",
      "25%      344936.198981\n",
      "50%      371595.914215\n",
      "75%      378241.830294\n",
      "max      401012.284742\n",
      "dtype: float64\n"
     ]
    },
    {
     "name": "stderr",
     "output_type": "stream",
     "text": [
      "/usr/local/anaconda3/lib/python3.7/site-packages/pandas/core/indexing.py:494: SettingWithCopyWarning: \n",
      "A value is trying to be set on a copy of a slice from a DataFrame.\n",
      "Try using .loc[row_indexer,col_indexer] = value instead\n",
      "\n",
      "See the caveats in the documentation: http://pandas.pydata.org/pandas-docs/stable/user_guide/indexing.html#returning-a-view-versus-a-copy\n",
      "  self.obj[item] = s\n"
     ]
    }
   ],
   "source": [
    "df_merged_3bedrooms.loc[df_merged_3bedrooms['taxvaluedollarcnt'].isnull(), 'taxvaluedollarcnt'] =0\n",
    "y_vals = df_merged_3bedrooms['taxvaluedollarcnt']\n",
    "from sklearn.linear_model import LinearRegression\n",
    "from sklearn.metrics import mean_squared_error\n",
    "\n",
    "lin_reg = LinearRegression()\n",
    "lin_reg.fit(housing, y_vals)\n",
    "housing_predictions = lin_reg.predict(housing)\n",
    "mse = mean_squared_error(y_vals, housing_predictions)\n",
    "rmse = np.sqrt(mse)\n",
    "print(\"MSE: \" + str(mse))\n",
    "print(\"RMSE: \" + str(rmse))\n",
    "\n",
    "from sklearn.model_selection import cross_val_score\n",
    "\n",
    "scores = cross_val_score(lin_reg, housing, y_vals,\n",
    "                         scoring=\"neg_mean_squared_error\", cv=10)\n",
    "rmse_scores = np.sqrt(-scores)\n",
    "print(\"Scores:\", rmse_scores)\n",
    "print(pd.Series(rmse_scores).describe())\n",
    "\n",
    "# model = sm.OLS(y_vals, housing).fit()  # fit the model\n",
    "# print(model.summary())      # print a summary of results"
   ]
  },
  {
   "cell_type": "markdown",
   "metadata": {},
   "source": [
    "<div class=\"alert alert-block alert-info\">\n",
    "When first choosing what variables we wanted in our linear regression we thought about it purely conceptually in what we might think would determine market price we in a three-bedroom house. We decided to incorporate variables such as the square footage, bathroom count, and city into the regression model because we feel that the primary way homes are valued is through location and features of a property. We then ran a correlation matrix of all the variables on taxvaluedollarcnt, to see which variables had the highest correlation. We chose our final variables of calculatedbathnbr, basementsqft, finishedsquarefeet12, fireplacecnt, garagetotalsqft, and buildingqualitytypeid because they were all positively correlated with taxvalluedollarcnt, and didn’t have the risk of high covariance or multicollinearity with one another. All of these variables had a correlation greater than .3 with the outcome variable. We discarded any variables that were negatively correlated, had a very low correlation, or risked the integrity of the regression output.\n",
    "</div>"
   ]
  },
  {
   "cell_type": "markdown",
   "metadata": {},
   "source": [
    "Compute the in-sample mean squared error of your prediction, i.e. the sum of squared deviations of the price predicted by your model and the price that was actually observed in the data. Compare the mean-squared error of your model with the empirical variance of the price of 3-bedroom houses. How much of that price variance is explained by your model in percentage terms?\n"
   ]
  },
  {
   "cell_type": "markdown",
   "metadata": {},
   "source": [
    "<div class=\"alert alert-block alert-info\">\n",
    "RMSE:365155.4598103187 - MSE:133338509829.28528= 2.73856E-06   \n",
    "1- 2.73856E-06 =0.999997261=R^2 or 99% which is the variance in price explained by our model \n",
    "\n",
    "The MSE of our model is much larger than our empirical variance of the model \n",
    "MSE=133338509829.28528 Variance= std^2= 23573.452396^2=555707657.9\n",
    "\n",
    "</div>"
   ]
  },
  {
   "cell_type": "markdown",
   "metadata": {},
   "source": [
    "How does your analysis relate to the idea of generalization performance discussed in the introduction to V. Vapnik's _The Nature of Statistical Learning Theory_?\n"
   ]
  },
  {
   "cell_type": "markdown",
   "metadata": {},
   "source": [
    "<div class=\"alert alert-block alert-info\">\n",
    "Our analysis regresses the variables with the highest covariation with the outcome variable. Because of this high correlation, our algorithm should still perform accurately even with out-of-sample data; however, any data that doesn’t conform to categorical/numerical buckets outlined in the existing data set cannot be incorporated into the model. If there were another variable such as the color of a 3 bedroom property, our algorithm wouldn’t be able to generalize the model to this data set.\n",
    "</div>"
   ]
  },
  {
   "cell_type": "code",
   "execution_count": null,
   "metadata": {},
   "outputs": [],
   "source": []
  }
 ],
 "metadata": {
  "anaconda-cloud": {},
  "kernelspec": {
   "display_name": "Python 3",
   "language": "python",
   "name": "python3"
  },
  "language_info": {
   "codemirror_mode": {
    "name": "ipython",
    "version": 3
   },
   "file_extension": ".py",
   "mimetype": "text/x-python",
   "name": "python",
   "nbconvert_exporter": "python",
   "pygments_lexer": "ipython3",
   "version": "3.7.4"
  }
 },
 "nbformat": 4,
 "nbformat_minor": 2
}
