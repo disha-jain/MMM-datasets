{
 "cells": [
  {
   "cell_type": "markdown",
   "metadata": {},
   "source": [
    "## Project 1: Housing Price Prediction"
   ]
  },
  {
   "cell_type": "markdown",
   "metadata": {},
   "source": [
    "<div class=\"alert alert-block alert-danger\">\n",
    "<b>Due: 9:29am, Tuesday, 21 January 2020</b>\n",
    "</div>\n",
    "\n",
    "Price prediction is one the key ingredients in market design and\n",
    "market competition. An important feature of the price in a competitive\n",
    "market is that it arises as an outcome of the market equilibrium where\n",
    "supply is equal to demand. As a result, factors that may be good\n",
    "predictors of the price, such as the volume of market sales, do not\n",
    "have a causal relationship with it.\n",
    "\n",
    "The distinction between factors that have good predictive power and\n",
    "causal factors becomes particularly important when prediction is\n",
    "needed in the changing market settings.  For instance, the change in\n",
    "average disposable consumer income shifts market demand, causing the\n",
    "change in both the prices and the volume of sales. Accounting for\n",
    "market conditions, substitution between products and variation in\n",
    "consumer demographics makes such predictions even more challenging in\n",
    "complex markets, such as the market for real estate.\n",
    "\n",
    "In your first project you are tasked with constructing a model for predicting the median price of a detached 3-bedroom single-family home in the US. We provide some starting code to give you and example of how to analyze the zillow data. Then, you need to perform your own analysis to answer the given questions. Your answers should be in the form of a clear argument that includes both well-written prose and code and its results (when the notebook is run).\n",
    "\n",
    "<div class=\"alert alert-block alert-info\">\n",
    "You and your team members should work together on this\n",
    "assignment. Both team members should fully understand everything you\n",
    "submit.  If there are parts you understand quickly but are new to your\n",
    "partners, it is your responsibility to explain them to your partners\n",
    "until everyone understands. If there are parts that your partners\n",
    "understands quickly but that are new to you, it is your responsibility\n",
    "to insist that your partners explain things to you until you\n",
    "understand them well.\n",
    "</div>\n",
    "\n",
    "### Data\n",
    "\n",
    "We will use data provided by Zillow: https://www.kaggle.com/c/zillow-prize-1/\n",
    "\n",
    "<div class=\"alert alert-block alert-warning\">\n",
    "Download the data you need for this assignment from:\n",
    "Collab/Resources/Datasets\n",
    "</div>\n",
    "\n",
    "This file contains two `.csv` (comma-separated values) files, and one Excel directory file. Unzip the file to extract the CSV files into a directory of your choice.\n",
    "\n",
    "### Libraries\n",
    "\n",
    "You will find it useful to install several relevant libraries for this project (which will also be useful for later projects). \n",
    "\n",
    "We recommend using these libraries (but you are welcome to use any open source libraries you prefer):\n",
    "\n",
    "- [pandas](https://pandas.pydata.org/) (Python Data Analysis Library):\n",
    "````\n",
    "conda install pandas\n",
    "````\n",
    "\n",
    "- [numpy](http://www.numpy.org/) (if you installed Anaconda, this should already be installed; if not, follow the directions there)\n",
    "\n",
    "- [StatsModels](https://www.statsmodels.org/stable/index.html) \n",
    "````\n",
    "conda install statsmodels\n",
    "````\n",
    "\n",
    "<div class=\"alert alert-block alert-warning\">\n",
    "All members on your team should set up the data and these libraries on your own machine, so you can each run things locally.  You should also decide on a way to share the `project1.ipynb` file (its up to you how to do this, but recommended options include using Dropbox, Google Drive, or a shared private github repository).\n",
    "</div>\n",
    "\n",
    "Import the libraries and give them abbreviated names:"
   ]
  },
  {
   "cell_type": "code",
   "execution_count": 1,
   "metadata": {
    "collapsed": true
   },
   "outputs": [],
   "source": [
    "import pandas as pd\n",
    "import numpy as np\n",
    "import statsmodels.api as sm"
   ]
  },
  {
   "cell_type": "markdown",
   "metadata": {},
   "source": [
    "### Example Analysis\n",
    "\n",
    "We choose two consecutive months arbitrariliy. We use the first month's data to fit our regression model, and then test our model's performance on data from the next month. Here, we use July 2017 and August 2017."
   ]
  },
  {
   "cell_type": "code",
   "execution_count": 2,
   "metadata": {
    "collapsed": true
   },
   "outputs": [],
   "source": [
    "month1 = [7] # month1 = July\n",
    "month2 = [8] # month2 = August"
   ]
  },
  {
   "cell_type": "markdown",
   "metadata": {},
   "source": [
    "Total taxable value of the property is typically a good proxy for its market value. We use it as an outcome variable."
   ]
  },
  {
   "cell_type": "code",
   "execution_count": 3,
   "metadata": {
    "scrolled": false
   },
   "outputs": [
    {
     "name": "stderr",
     "output_type": "stream",
     "text": [
      "/Users/Denis/anaconda/lib/python2.7/site-packages/IPython/core/interactiveshell.py:2723: DtypeWarning: Columns (49) have mixed types. Specify dtype option on import or set low_memory=False.\n",
      "  interactivity=interactivity, compiler=compiler, result=result)\n"
     ]
    }
   ],
   "source": [
    "# load the data, use the directory where you saved the data\n",
    "df_properties = pd.read_csv('properties_2017.csv') \n",
    "df_train = pd.read_csv('train_2017.csv', parse_dates=[\"transactiondate\"])\n",
    "\n",
    "df_train['transactionmonth'] = df_train['transactiondate'].dt.month # create a new column indicating the month\n",
    "df_merged = pd.merge(df_train, df_properties, on='parcelid', how='left') # merge two loaded files"
   ]
  },
  {
   "cell_type": "markdown",
   "metadata": {},
   "source": [
    "Split the dataframe into `month1` and `month2`:"
   ]
  },
  {
   "cell_type": "code",
   "execution_count": 4,
   "metadata": {
    "collapsed": true
   },
   "outputs": [],
   "source": [
    "df_month1 = df_merged[df_merged['transactionmonth'].isin(month1)]  # save the data of July\n",
    "df_month2 = df_merged[df_merged['transactionmonth'].isin(month2)]  # save the data of August\n",
    "\n",
    "df_month1 = df_month1.fillna(0) # Be careful when you deal with blank observations. Here we substitute with 0 because we use only the number of the bedroom\n",
    "df_month2 = df_month2.fillna(0)"
   ]
  },
  {
   "cell_type": "markdown",
   "metadata": {},
   "source": [
    "For each month, create an independent variable (`x`) with the predictive variables, and a dependent variable (`y`)."
   ]
  },
  {
   "cell_type": "code",
   "execution_count": 5,
   "metadata": {
    "collapsed": true
   },
   "outputs": [],
   "source": [
    "y_month1 = df_month1['taxvaluedollarcnt']\n",
    "x_month1 = df_month1['bedroomcnt']\n",
    "y_month2 = df_month2['taxvaluedollarcnt']\n",
    "x_month2 = df_month2['bedroomcnt']"
   ]
  },
  {
   "cell_type": "markdown",
   "metadata": {},
   "source": [
    "Now fit the linear regression model on `month1`'s data:"
   ]
  },
  {
   "cell_type": "code",
   "execution_count": 6,
   "metadata": {
    "scrolled": true
   },
   "outputs": [
    {
     "name": "stdout",
     "output_type": "stream",
     "text": [
      "                            OLS Regression Results                            \n",
      "==============================================================================\n",
      "Dep. Variable:      taxvaluedollarcnt   R-squared:                       0.430\n",
      "Model:                            OLS   Adj. R-squared:                  0.430\n",
      "Method:                 Least Squares   F-statistic:                     7164.\n",
      "Date:                Wed, 15 Jan 2020   Prob (F-statistic):               0.00\n",
      "Time:                        09:43:18   Log-Likelihood:            -1.3960e+05\n",
      "No. Observations:                9490   AIC:                         2.792e+05\n",
      "Df Residuals:                    9489   BIC:                         2.792e+05\n",
      "Df Model:                           1                                         \n",
      "Covariance Type:            nonrobust                                         \n",
      "==============================================================================\n",
      "                 coef    std err          t      P>|t|      [95.0% Conf. Int.]\n",
      "------------------------------------------------------------------------------\n",
      "bedroomcnt   1.57e+05   1855.121     84.638      0.000      1.53e+05  1.61e+05\n",
      "==============================================================================\n",
      "Omnibus:                    13361.811   Durbin-Watson:                   2.002\n",
      "Prob(Omnibus):                  0.000   Jarque-Bera (JB):          6367995.006\n",
      "Skew:                           8.115   Prob(JB):                         0.00\n",
      "Kurtosis:                     128.862   Cond. No.                         1.00\n",
      "==============================================================================\n",
      "\n",
      "Warnings:\n",
      "[1] Standard Errors assume that the covariance matrix of the errors is correctly specified.\n"
     ]
    }
   ],
   "source": [
    "model = sm.OLS(y_month1, x_month1).fit()  # fit the model\n",
    "print(model.summary())      # print a summary of results"
   ]
  },
  {
   "cell_type": "markdown",
   "metadata": {},
   "source": [
    "Predict month2's taxable assessment of a home using the model fitted above:"
   ]
  },
  {
   "cell_type": "code",
   "execution_count": 7,
   "metadata": {
    "collapsed": true
   },
   "outputs": [],
   "source": [
    "yhat = model.predict(x_month2)"
   ]
  },
  {
   "cell_type": "markdown",
   "metadata": {},
   "source": [
    "Calculate mean squared error (MSE), variance and r-squared:"
   ]
  },
  {
   "cell_type": "code",
   "execution_count": 8,
   "metadata": {
    "scrolled": true
   },
   "outputs": [
    {
     "name": "stdout",
     "output_type": "stream",
     "text": [
      "('MSE: ', 309344169217.8261)\n",
      "('Variance: ', 329449869767.6554)\n",
      "('R-squared: ', 0.061028102891674596)\n"
     ]
    }
   ],
   "source": [
    "# MSE\n",
    "serror = np.square(y_month2 - yhat)\n",
    "mse = np.mean(serror)\n",
    "print(\"MSE: \", mse)\n",
    "\n",
    "# Sample Variance\n",
    "ybar = y_month2.mean()\n",
    "variance = np.mean((y_month2 - ybar)**2)\n",
    "print(\"Variance: \", variance)\n",
    "\n",
    "# Explanation of variance\n",
    "# this is the r-squared \n",
    "rsq = 1 - (mse / variance)\n",
    "print(\"R-squared: \", rsq)"
   ]
  },
  {
   "cell_type": "markdown",
   "metadata": {},
   "source": [
    "### Assignment\n",
    "\n",
    "You should complete the assignment by inserting cells in the notebook with your answers to these questions, including both prose and code you used for your analysis.\n",
    "\n",
    "<div class=\"alert alert-block alert-warning\">\n",
    "Construct and estimate a linear regression model to predict the taxable value of 3-bedroom homes.\n",
    "</div>\n",
    "\n",
    "Provide an argument which variables can potentially be good predictors for the value of interest and try to estimate the linear regression with all those variables included. Discuss which models you have considered estimating but decided to discard and why. Present and discuss the outcome of that estimation.  \n",
    "\n",
    "\n",
    "   "
   ]
  },
  {
   "cell_type": "markdown",
   "metadata": {},
   "source": [
    "<div class=\"alert alert-block alert-info\">Replace with your answers here</div>"
   ]
  },
  {
   "cell_type": "markdown",
   "metadata": {},
   "source": [
    "Compute the in-sample mean squared error of your prediction, i.e. the sum of squared deviations of the price predicted by your model and the price that was actually observed in the data. Compare the mean-squared error of your model with the empirical variance of the price of 3-bedroom houses. How much of that price variance is explained by your model in percentage terms?\n"
   ]
  },
  {
   "cell_type": "markdown",
   "metadata": {},
   "source": [
    "<div class=\"alert alert-block alert-info\">Replace with your answers here</div>"
   ]
  },
  {
   "cell_type": "markdown",
   "metadata": {},
   "source": [
    "How does your analysis relate to the idea of generalization performance discussed in the introduction to V. Vapnik's _The Nature of Statistical Learning Theory_?\n"
   ]
  },
  {
   "cell_type": "markdown",
   "metadata": {},
   "source": [
    "<div class=\"alert alert-block alert-info\">Replace with your answers here</div>"
   ]
  }
 ],
 "metadata": {
  "anaconda-cloud": {},
  "kernelspec": {
   "display_name": "Python 3",
   "language": "python",
   "name": "python3"
  },
  "language_info": {
   "codemirror_mode": {
    "name": "ipython",
    "version": 3
   },
   "file_extension": ".py",
   "mimetype": "text/x-python",
   "name": "python",
   "nbconvert_exporter": "python",
   "pygments_lexer": "ipython3",
   "version": "3.7.5"
  }
 },
 "nbformat": 4,
 "nbformat_minor": 2
}
