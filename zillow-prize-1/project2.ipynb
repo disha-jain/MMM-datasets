{
 "cells": [
  {
   "cell_type": "markdown",
   "metadata": {
    "colab_type": "text",
    "id": "HEY0POm9InZC"
   },
   "source": [
    "## Project 2: Kaggle Zillow prize challenge replication"
   ]
  },
  {
   "cell_type": "markdown",
   "metadata": {
    "colab_type": "text",
    "id": "1RHLfUiJInZI"
   },
   "source": [
    "<div class=\"alert alert-block alert-danger\">\n",
    "<b>Due: 9:29am, Tuesday, 4 February 2020</b>\n",
    "</div>\n",
    "\n",
    "In your second project you are tasked with building a model to improve the Zestimate residual error using the data for 2017 in the Kaggle Zillow prize competition. The following description is adapted from the Kaggle. For more details, reference: https://www.kaggle.com/c/zillow-prize-1/\n",
    "\n",
    "### Data\n",
    "\n",
    "You can only use the following data.\n",
    "\n",
    "<div class=\"alert alert-block alert-warning\">\n",
    "Download the data you need for this assignment from:\n",
    "Collab/Resources/Datasets\n",
    "</div>\n",
    "\n",
    "This file contains two `.csv` (comma-separated values) files, and one Excel directory file. Unzip the file to extract the CSV files into a directory of your choice.\n",
    "\n",
    "### Data description\n",
    "\n",
    "(Train/Test split)\n",
    "\n",
    "- You are provided with a full list of real estate properties in three counties (Los Angeles, Orange and Ventura, California) data in 2017 in the file `properties_2017.csv`.\n",
    "\n",
    "- Not all the properties are sold in each time period. If a property was not sold in the time period, it will not have a row in `train_2017.csv` and so will not be used in predictions.\n",
    "\n",
    "(File descriptions)\n",
    "\n",
    "- properties_2017.csv - all the properties with their home features for 2017 (released on 10/2/2017)\n",
    "- train_2017.csv - the training set with transactions from 1/1/2017 to 9/15/2017 (released on 10/2/2017)\n",
    "\n",
    "(Data fields)\n",
    "\n",
    "- Please refer to zillow_data_dictionary.xlsx\n",
    "\n",
    "### Instruction Overview\n",
    "\n",
    "Zillow Prize is challenging the data science community to help push the accuracy of the Zestimate even further. In the competition, Zillow is asking you to predict the log-error between their Zestimate and the actual sale price, given all the features of a home. \n",
    "\n",
    "The log error is defined as\n",
    "\n",
    "    logerror=log(Zestimate)−log(SalePrice)\n",
    "\n",
    "and it is recorded in the transactions file `train_2017.csv`. Using this training set and features of the home, set up your model for log error prediction. And then for each property (unique parcelid) in the `properties_2017.csv` dataset, you must predict a log error for the next period. Your program should write to output.csv in the following format.\n",
    "(Example)\n",
    "\n",
    "|   parcelid    |    logerror   |\n",
    "| ------------- | ------------- |\n",
    "|   10754147    |    0.1234     |\n",
    "|   10759547    |   -0.3212     |\n",
    "|       ...     |       ...     |\n",
    "\n",
    "Your algorithm also needs to output the mean of all logerrors. \n",
    "Your answers should be in the form of a clear argument that includes both well-written prose, code and the numerical results (when the notebook is run). \n"
   ]
  },
  {
   "cell_type": "markdown",
   "metadata": {
    "colab_type": "text",
    "id": "KDnGKhziInZL"
   },
   "source": [
    "### Assignment\n",
    "\n",
    "You should complete the assignment by inserting cells in the notebook with your answers to these questions, including both prose and code you used for your analysis.\n",
    "\n",
    "<div class=\"alert alert-block alert-warning\">\n",
    " Construct a model and predict the log-error for each property (unique parcelid) given all the features of a home.\n",
    "</div>\n",
    "\n",
    "Let's start with the data loading."
   ]
  },
  {
   "cell_type": "code",
   "execution_count": 0,
   "metadata": {
    "colab": {},
    "colab_type": "code",
    "collapsed": true,
    "id": "J1RFH2AxInZN"
   },
   "outputs": [],
   "source": [
    "# Import the libraries and give them abbreviated names:\n",
    "import pandas as pd\n",
    "import numpy as np\n",
    "import statsmodels.api as sm\n",
    "\n",
    "# load the data, use the directory where you saved the data:\n",
    "df_properties = pd.read_csv('properties_2017.csv') \n",
    "df_train = pd.read_csv('train_2017.csv', parse_dates=[\"transactiondate\"])"
   ]
  },
  {
   "cell_type": "markdown",
   "metadata": {
    "colab_type": "text",
    "id": "y7HRFUKeInZS"
   },
   "source": [
    "(1) Provide an argument for which variables in `properties_2017.csv` can potentially be good predictors for the value of interest (log-error), and explain why each will be useful. Explanations of why certain variables could be particularly poor predictors are also welcomed (but not required).\n"
   ]
  },
  {
   "cell_type": "markdown",
   "metadata": {
    "colab_type": "text",
    "id": "-6wbSywnInZU"
   },
   "source": [
    "<div class=\"alert alert-block alert-info\">Replace with your answers here</div>"
   ]
  },
  {
   "cell_type": "markdown",
   "metadata": {
    "colab_type": "text",
    "id": "MTELwknxInZV"
   },
   "source": [
    "(2) You can see that some properties such as parcelid have more detailed home information available, such as number of bedrooms or bathrooms, and other areas do not in `properties_2017.csv`. Explain how you can handle this missing information when you construct a model.\n"
   ]
  },
  {
   "cell_type": "markdown",
   "metadata": {
    "colab_type": "text",
    "id": "Xxa1M1LfInZX"
   },
   "source": [
    "<div class=\"alert alert-block alert-info\">Replace with your answers here</div>"
   ]
  },
  {
   "cell_type": "markdown",
   "metadata": {
    "colab_type": "text",
    "id": "HPSCPnJFInZY"
   },
   "source": [
    "(3) Construct your model and report the predicted log-error for each property for the next period. This should be a python script `project2.py` that reads from `properties_2017.csv` and writes to `output.csv` that lists parcelID and log-error predicted value for each parcel. \n",
    "\n",
    "Evaluate your model's ability to predict log-error values by comparing the predicted log-error values for the next period and the actual log-error testing values. \n",
    "\n",
    "Discuss why the model can or cannot predict the log-error values for the test data. \n"
   ]
  },
  {
   "cell_type": "markdown",
   "metadata": {
    "colab_type": "text",
    "id": "yAh9MzeZInZb"
   },
   "source": [
    "<div class=\"alert alert-block alert-info\">Replace with your answers here</div>"
   ]
  }
 ],
 "metadata": {
  "anaconda-cloud": {},
  "colab": {
   "collapsed_sections": [],
   "name": "project2v3.ipynb",
   "provenance": []
  },
  "kernelspec": {
   "display_name": "Python [Root]",
   "language": "python",
   "name": "Python [Root]"
  },
  "language_info": {
   "codemirror_mode": {
    "name": "ipython",
    "version": 2
   },
   "file_extension": ".py",
   "mimetype": "text/x-python",
   "name": "python",
   "nbconvert_exporter": "python",
   "pygments_lexer": "ipython2",
   "version": "2.7.11"
  }
 },
 "nbformat": 4,
 "nbformat_minor": 0
}
