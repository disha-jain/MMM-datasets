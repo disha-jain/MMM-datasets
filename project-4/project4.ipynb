{
 "cells": [
  {
   "cell_type": "markdown",
   "metadata": {},
   "source": [
    "Team submitting this assignment:  \n",
    "_<b>list each member of your team here</b>_\n",
    "\n",
    "External resources used:  \n",
    "_it is not necessary to list the course materials, but if you used any other resources, including discussing problems with students not on your team, list them here_"
   ]
  },
  {
   "cell_type": "markdown",
   "metadata": {},
   "source": [
    "# Project 4: On-line Advertising Auctions\n",
    "\n",
    "   <div class=\"alert alert-block alert-danger\">\n",
    "    Due <b>Tuesday, 3 March, 9:29am</b>. We will run an on-line auction in class on Tuesday, 3 March. \n",
    "   </div>\n",
    "    \n",
    "The purpose of this assignment is to learn about auction mechanisms, how to analyze equilibrium for different multi-player games, and how to develop an effective strategy for a multi-player, multi-good auction.\n",
    "\n",
    "As part of this project, you will participate in a sponsored search auction, much like the one Google uses to select the ads it displays during a query. You will design and implement a bidding algorithm where the goal is to maximize the number of clicks you can obtain in a series of generalized second price auctions, competing with other teams in the class. Each team will be given a budget of $10,000 (imaginary dollars, of course!). Although there will be a bonus for doing well in the final auction, this will not be the primary factor in grading this assignment. We are more interested in how you understand the theory and develop your algorithm.\n",
    "\n",
    "You should work in a team of 3 or 4 students consistent of at least one Economics major and one Computer Science major. You may continue to work with the same people you have worked on for previous projects, but are encouraged to consider whether it would be more beneficial to gain experience working with others by switching your team."
   ]
  },
  {
   "cell_type": "markdown",
   "metadata": {},
   "source": [
    "## Auction Design\n",
    "\n",
    "Like Google's ad words auctions, we will use a _generalized second price auction_ where you will be bidding for an ad position on a web page. \n",
    "\n",
    "The primary reference papers for this assignment are: \n",
    "\n",
    "- Benjamin Edelman, Michael Ostrovsky, and Michael Schwarz. [_Internet Advertising and the Generalized Second-Price Auction:Selling Billions of Dollars Worth of Keywords_](//uvammm.github.io/docs/edelman.pdf). American Economic Review 2007.\n",
    "\n",
    "- Hal Varian. [_Position Auctions_](//uvammm.github.io/docs/position.pdf). International Journal of Industrial Organization 2007.\n",
    "\n",
    "In each auction there will be three advertisement slots available, with slot 1 being at the top, slot 2 being below 1, and 3 below 2. These correspond to the most desirable placements on the generated page. For the same ad and user population, slot 1 has a click rate of 6%, slot 2 has a click rate of 3%, and slot 3 has a click rate of 1%. Slots are sold in a _pay-per-click_ fashion where a bidder pays for a slot only if their ad is clicked. \n",
    "\n",
    "Each auction proceeds as follows:\n",
    "\n",
    "1. Participants submit their bids.\n",
    "2. A user arrives and submits a search query.\n",
    "3. The bids are ranked by magnitude with the top three bids that exceed the reserve price (25 cents) getting the three available slots.\n",
    "4. The highest bidder out of those three receives the first slot, the second highest bidder receives slot 2, and the third highest bidder receives slot 3.\n",
    "5. A bidder pays only if their ad is clicked and the payment rules are as follows:\n",
    "    * Bidder 1 pays a price equal to bid 2\n",
    "    * Bidder 2 pays a price equal to bid 3\n",
    "    * Bidder 3 pays a price equal to bid 4 or the reserve price, whichever is higher\n",
    "    \n",
    "Notice that a winning bidder only pays when their ad gets clicked, and we assume that at most one ad will be clicked per user search query. After the auction takes place, the bidder is notified if the user clicked on your ad or not. If the bidder's ad received a click, the message returned to you will tell you the slot you were in and the price you paid, relayed as (slot, price). The message \"user did not click on your ad\" will be returned if you won the auction but received no click or if you lost the auction. Therefore, you should be thinking about optimization strategies that fit into this limited information framework. \n"
   ]
  },
  {
   "cell_type": "markdown",
   "metadata": {},
   "source": [
    "   <div class=\"alert alert-block alert-warning\">\n",
    "   \n",
    "   <b>Problem 1.</b> Suppose we're analyzing a repeated Generalized Second Price Auction, as described above. What type of equilibrium is used to model this market in _Internet Advertising and the Generalized Second-Price Auction:Selling Billions of Dollars Worth of Keywords_?  What information is private and what is common knowledge to all players? \n",
    "   \n",
    "   </div>"
   ]
  },
  {
   "cell_type": "markdown",
   "metadata": {},
   "source": [
    "*write your answer here*"
   ]
  },
  {
   "cell_type": "markdown",
   "metadata": {},
   "source": [
    "   <div class=\"alert alert-block alert-warning\">\n",
    "    <b>Problem 2.</b> Suppose there are $n$ ad slots with click-through rates denoted $r_1\\geq r_2\\geq ... \\geq r_n$ $\\forall k\\in n$ (for simplicity, we assume the click-through rate depends only on the position and not on the ad). There are also $n$ bidders, with their bids ranked $b_1\\geq b_2\\geq ... \\geq b_n$. What is the expected net payoff for bidder $i$ with value $v_i$ and bid $b_i$ who is awarded slot $k$? \n",
    "    </div>"
   ]
  },
  {
   "cell_type": "markdown",
   "metadata": {},
   "source": [
    "*write your answer here*"
   ]
  },
  {
   "cell_type": "markdown",
   "metadata": {},
   "source": [
    "   <div class=\"alert alert-block alert-warning\">\n",
    "    <b>Problem 3.</b> Find the envy-free ex post Nash equilibrium for this auction where there is only one slot available. Demonstrate that your answer is in fact an equilibrium.\n",
    "    </div>"
   ]
  },
  {
   "cell_type": "markdown",
   "metadata": {},
   "source": [
    "*write your answer here*"
   ]
  },
  {
   "cell_type": "markdown",
   "metadata": {},
   "source": [
    "   <div class=\"alert alert-block alert-warning\">\n",
    "    <b>Problem 4.</b> Is it a dominant strategy to bid your true value when there is more than one slot up for auction? Explain or provide a counter example.\n",
    "    </div>"
   ]
  },
  {
   "cell_type": "markdown",
   "metadata": {},
   "source": [
    "*write your answer here*"
   ]
  },
  {
   "cell_type": "markdown",
   "metadata": {},
   "source": [
    "   <div class=\"alert alert-block alert-warning\">\n",
    "    <b>Problem 5.</b> Suppose you're playing a one-shot game with $k$ slots in the auction and $n$ bidders, how should you bid? (A written description is acceptable for this question, you do not have to derive a bidding function).\n",
    "    </div>"
   ]
  },
  {
   "cell_type": "markdown",
   "metadata": {},
   "source": [
    "*write your answer here*"
   ]
  },
  {
   "cell_type": "markdown",
   "metadata": {},
   "source": [
    "   <div class=\"alert alert-block alert-warning\">\n",
    "    <b>Problem 6.</b> If you're playing a repeated game with $k$ slots and $n$ bidders, how should your bid evolve over time? Specifically, how would you use the feedback provided by the auctioneer to update your bid?\n",
    "    </div>"
   ]
  },
  {
   "cell_type": "markdown",
   "metadata": {},
   "source": [
    "*write your answer here*"
   ]
  },
  {
   "cell_type": "markdown",
   "metadata": {},
   "source": [
    "## Bidding Algorithm\n",
    "\n",
    "For the next part of this assignment, you will design a bidding algorithm and test it on synthetic data by generating random opponent bids. Your algorithm should follow these basic guidelines:\n",
    "\n",
    "1. It needs to propose a starting bid.\n",
    "2. It needs to keep track of your budget and stop bidding once your balance is 0.\n",
    "3. It cannot bid more than your remaining balance.\n",
    "\n",
    "Your goal is to devise a bidding algorithm that maximizes your total return."
   ]
  },
  {
   "cell_type": "markdown",
   "metadata": {},
   "source": [
    "   <div class=\"alert alert-block alert-warning\">\n",
    "    <b>Problem 7.</b> What're the economic principles that are guiding your algorithm? What information does your algorithm need consider each time it updates? Finally, describe the strategy your team is adopting.\n",
    "    </div>"
   ]
  },
  {
   "cell_type": "markdown",
   "metadata": {},
   "source": [
    "*write your answer here*"
   ]
  },
  {
   "cell_type": "markdown",
   "metadata": {},
   "source": [
    "   <div class=\"alert alert-block alert-warning\">\n",
    "    <b>Problem 8.</b> Develop a bidding algorithm based on your answer above. Test the algorithm against randomly generated synthetic bids, keeping track of your wins and noting what changes you make during this process.\n",
    "    </div>\n",
    "    \n",
    "**Helpful Tips:** Your algorithm should be a function that takes information on your winning status and the price you paid (if you won) as arguments, uses that information to update your bid, then returns a new bid. To simulate the bidding environment, you can draw random bids from a bounded distribution, order all bids, and follow the rules of the auction design above. It would be helpful to also keep track of all the data from this test so you can see how your algorithm is performing and what modifications you may need to make."
   ]
  },
  {
   "cell_type": "code",
   "execution_count": null,
   "metadata": {},
   "outputs": [],
   "source": [
    "# write your code here"
   ]
  },
  {
   "cell_type": "markdown",
   "metadata": {},
   "source": [
    "## Interacting with the Server\n",
    "\n",
    "In order to participate in the in-class auction, you will be interacting with our server. The information below outlines how to interact with the server. \n",
    "\n",
    "Instructions to run the auction server:\n",
    "\n",
    "1. Install `redis` on your machine (the easiest way to do this is `brew install redis` (on Mac OS X) but [see documentation here](https://redis.io/topics/quickstart) for building from sources on other Linux platforms).\n",
    "2. Run the `redis` server: `redis-server`\n",
    "2. Download the [`app.py`](https://github.com/uvammm/uvammm.github.io/blob/master/src/content/projects/project4/app.py), [`auction.py`](https://github.com/uvammm/uvammm.github.io/blob/master/src/content/projects/project4/auction.py), \n",
    "[`keys.json`](https://github.com/uvammm/uvammm.github.io/blob/master/src/content/projects/project4/keys.json), \n",
    "and [`requirements.txt`](https://github.com/uvammm/uvammm.github.io/blob/master/src/content/projects/project4/requirements.txt) files.\n",
    "3. `pip install -r requirements.txt`\n",
    "4. Run `python app.py` in a shell. This runs the server side of the auction that provides the client API.\n",
    "5. Run `python auction.py` in a new shell (keep the shell from step 4 running). \n",
    "\n",
    "Following is the API documentation for communicating with the server. You should\n",
    "write a client to call the API and submit your bids. Each of the API endpoints expects a JSON request body.\n",
    "\n",
    "### Bid API\n",
    "\n",
    "Use this endpoint to submit your bids.\n",
    "\n",
    "```\n",
    "POST /bid\n",
    "parameters: team_id, key, auction_id, bid_amount\n",
    "```\n",
    "\n",
    "#### Description of API parameters\n",
    "\n",
    "`team_id` is a string parameter representing the team ID (which we will provide to\n",
    "you)\n",
    "\n",
    "`key` is string parameter representing secret key for your team (we will provide this too)\n",
    "\n",
    "`auction_id` is an integer corresponding to the current auction number. Each auction has a unique ID. The first auction will have an `auction_id` of 1, the next one will have 2, and so on. If you're unsure of what the current `auction_id` is, see below how to call get the current `auction_id` from the `/results` endpoint.\n",
    "\n",
    "`bid_amount` is a real positive number representing the amount you're bidding.\n",
    "Make sure this number is not greater than your remaining budget.\n",
    "\n",
    "All of the above parameters are required.\n",
    "\n",
    "\n",
    "#### Response from server\n",
    "\n",
    "`message` will contain the \"Successfully submitted the bid\" if the bid is valid. \n",
    "\n",
    "`error` will contain an error message if there is something wrong with the\n",
    "request.\n",
    "\n",
    "#### Example request and response bodies\n",
    "\n",
    "Example request body: \n",
    "`{ 'team_id': '1', 'key': '5b3869104ae0489586a144a5d7ef6da1', 'auction_id': 1, 'bid_amount': 2.73}` \n",
    "Example response body: \n",
    "`{ 'message': 'Successfully submitted the bid' }`\n",
    "\n",
    "\n",
    "\n",
    "### Results API\n",
    "\n",
    "Use this API to get results from your previous bids.\n",
    "\n",
    "```\n",
    "POST /results\n",
    "parameters: team_id, key, count\n",
    "```\n",
    "\n",
    "#### Description of API parameters\n",
    "\n",
    "`team_id` is a string parameter representing the team ID (which we will provide\n",
    "to each team)\n",
    "\n",
    "`key` is string parameter representing the secret key for your team (we will\n",
    "provide this too)\n",
    "\n",
    "`count` is an integer parameter representing how many previous results you want\n",
    "to access.\n",
    "\n",
    "\n",
    "#### Response from server\n",
    "\n",
    "`results` is an array of size `count` containing results from your last `count`\n",
    "bids. Each entry of the array will contain the fields `auction_id`, `info` and\n",
    "`price`.\n",
    "\n",
    "`auction_id`: this will be the auction ID.\n",
    "`info`: this will contain either `slot 1`, `slot 2`, `slot 3` or `user did not\n",
    "click on your ad`.\n",
    "`price`: this will be the amount you paid.\n",
    "\n",
    "`budget_left` will contain the amount of budget you have left.\n",
    "\n",
    "`current_auction_id` will contain the current `auction_id`. Use this to know which\n",
    "`auction_id` to use for your next `/bid` API call.\n",
    "\n",
    "`error` will contain an error message if there is something wrong with the\n",
    "request.\n",
    "\n",
    "#### Example request and response bodies\n",
    "\n",
    "Example request body: \n",
    "`{ 'team_id': '1', 'key': '5b3869104ae0489586a144a5d7ef6da1', 'count': 2 }`\n",
    "\n",
    "Example response body: \n",
    "`{ 'results': [{'auction_id': 2, 'info': 'slot 1', 'price': 1.83 }, {'auction_id': 1, 'info': 'user did not click on your ad', 'price': 0.0}], 'budget_left': 9998.17, 'current_auction_id': 3 }`\n",
    "\n",
    "### Stats API\n",
    "Use this API to get stats from last 10 rounds of bidding.\n",
    "\n",
    "```\n",
    "POST /stats\n",
    "parameters: team_id, key\n",
    "```\n",
    "\n",
    "#### Description of API parameters\n",
    "\n",
    "`team_id` is a string parameter representing the team ID (which we will provide\n",
    "to each team)\n",
    "\n",
    "`key` is string paramter representing the secret key for your team (we will\n",
    "provide this too)\n",
    "\n",
    "\n",
    "#### Response from server\n",
    "`stats` is an array of size 3 containing the average winning bid for slots 1, 2,\n",
    "and 3 respetively from the 10 previous rounds.\n",
    "\n",
    "`error` will contain an error message if there is something wrong with the\n",
    "request.\n",
    "\n",
    "#### Example request and response bodies\n",
    "\n",
    "Example request body: \n",
    "`{ 'team_id': '1', 'key': '5b3869104ae0489586a144a5d7ef6da1'}`\n",
    "\n",
    "Example response body: \n",
    "`{ 'stats': [2.54, 1.75, 1.54] }`\n"
   ]
  },
  {
   "cell_type": "markdown",
   "metadata": {},
   "source": [
    "### Example Python code for making API requests:"
   ]
  },
  {
   "cell_type": "code",
   "execution_count": null,
   "metadata": {
    "scrolled": false
   },
   "outputs": [],
   "source": [
    "import requests\n",
    "import json\n",
    "\n",
    "team_id = \"1\" # change it to the team ID we'll provide you through slack\n",
    "key = \"5b3869104ae0489586a144a5d7ef6da1\"  # change it to the key we'll provide you through slack\n",
    "url = 'http://127.0.0.1:5000'\n",
    "\n",
    "# body for /bid call\n",
    "body = {'team_id': team_id,\n",
    "        'key': key,\n",
    "        'auction_id': 1,\n",
    "        'bid_amount': 2.35 }\n",
    "\n",
    "r = requests.post(url + '/bid', json=body) \n",
    "print(r.json()) \n",
    "\n",
    "# body for /results call\n",
    "body = {'team_id': team_id,\n",
    "        'key': key,\n",
    "        'count': 2 }\n",
    "\n",
    "r = requests.post(url + '/results', json=body) \n",
    "print(r.json()) \n",
    "\n",
    "# body for /stats call\n",
    "body = {'team_id': team_id,\n",
    "        'key': key }\n",
    "\n",
    "r = requests.post(url + '/stats', json=body) \n",
    "print(r.json()) "
   ]
  },
  {
   "cell_type": "markdown",
   "metadata": {},
   "source": [
    "   <div class=\"alert alert-block alert-warning\">\n",
    "    <b>Problem 8.</b> Integrate your algorithm with the API, as per the example above. You should update your code so that your algorithm can query the server for information and use that information to update the bid. It also needs to keep track of the clicks you receive.\n",
    "    </div>"
   ]
  },
  {
   "cell_type": "code",
   "execution_count": 47,
   "metadata": {},
   "outputs": [
    {
     "name": "stdout",
     "output_type": "stream",
     "text": [
      "{'budget_left': 9941.450862326708, 'current_auction_id': '1289', 'results': [{'auction_id': '1287', 'info': 'slot 1', 'price': 0.9762458738414187}, {'auction_id': '1288', 'info': 'user did not click on your ad', 'price': 0.0}]}\n",
      "{'budget_left': 9940.457594462263, 'current_auction_id': '1296', 'results': [{'auction_id': '1294', 'info': 'slot 1', 'price': 0.9932678644446007}, {'auction_id': '1295', 'info': 'user did not click on your ad', 'price': 0.0}]}\n",
      "{'budget_left': 9939.464850334107, 'current_auction_id': '1314', 'results': [{'auction_id': '1312', 'info': 'slot 1', 'price': 0.9927441281558104}, {'auction_id': '1313', 'info': 'user did not click on your ad', 'price': 0.0}]}\n",
      "{'budget_left': 9938.538876898576, 'current_auction_id': '1320', 'results': [{'auction_id': '1318', 'info': 'slot 1', 'price': 0.9259734355305725}, {'auction_id': '1319', 'info': 'user did not click on your ad', 'price': 0.0}]}\n",
      "{'budget_left': 9937.713603422802, 'current_auction_id': '1353', 'results': [{'auction_id': '1351', 'info': 'slot 1', 'price': 0.8252734757727019}, {'auction_id': '1352', 'info': 'user did not click on your ad', 'price': 0.0}]}\n",
      "{'budget_left': 9936.999618158738, 'current_auction_id': '1372', 'results': [{'auction_id': '1370', 'info': 'slot 1', 'price': 0.7139852640640096}, {'auction_id': '1371', 'info': 'user did not click on your ad', 'price': 0.0}]}\n",
      "{'budget_left': 9936.26423696484, 'current_auction_id': '1374', 'results': [{'auction_id': '1372', 'info': 'slot 2', 'price': 0.7353811938982696}, {'auction_id': '1373', 'info': 'user did not click on your ad', 'price': 0.0}]}\n",
      "{'budget_left': 9935.438242265345, 'current_auction_id': '1381', 'results': [{'auction_id': '1379', 'info': 'slot 1', 'price': 0.8259946994953346}, {'auction_id': '1380', 'info': 'user did not click on your ad', 'price': 0.0}]}\n",
      "{'budget_left': 9934.603832926085, 'current_auction_id': '1401', 'results': [{'auction_id': '1399', 'info': 'slot 1', 'price': 0.8344093392600697}, {'auction_id': '1400', 'info': 'user did not click on your ad', 'price': 0.0}]}\n",
      "{'budget_left': 9933.652815690317, 'current_auction_id': '1444', 'results': [{'auction_id': '1442', 'info': 'slot 1', 'price': 0.9510172357676346}, {'auction_id': '1443', 'info': 'user did not click on your ad', 'price': 0.0}]}\n",
      "{'budget_left': 9932.665845698226, 'current_auction_id': '1452', 'results': [{'auction_id': '1450', 'info': 'slot 1', 'price': 0.9869699920915496}, {'auction_id': '1451', 'info': 'user did not click on your ad', 'price': 0.0}]}\n",
      "{'budget_left': 9931.71325403244, 'current_auction_id': '1473', 'results': [{'auction_id': '1471', 'info': 'slot 1', 'price': 0.9525916657857322}, {'auction_id': '1472', 'info': 'user did not click on your ad', 'price': 0.0}]}\n",
      "{'budget_left': 9930.761102020839, 'current_auction_id': '1483', 'results': [{'auction_id': '1481', 'info': 'slot 1', 'price': 0.9521520116008982}, {'auction_id': '1482', 'info': 'user did not click on your ad', 'price': 0.0}]}\n",
      "{'budget_left': 9928.982984429513, 'current_auction_id': '1520', 'results': [{'auction_id': '1518', 'info': 'slot 1', 'price': 0.9574860082884608}, {'auction_id': '1519', 'info': 'slot 1', 'price': 0.8206315830369444}]}\n",
      "{'budget_left': 9928.982984429513, 'current_auction_id': '1521', 'results': [{'auction_id': '1520', 'info': 'user did not click on your ad', 'price': 0.0}, {'auction_id': '1520', 'info': 'user did not click on your ad', 'price': 0.0}]}\n",
      "{'budget_left': 9928.023387628276, 'current_auction_id': '1531', 'results': [{'auction_id': '1529', 'info': 'slot 1', 'price': 0.9595968012365841}, {'auction_id': '1530', 'info': 'user did not click on your ad', 'price': 0.0}]}\n",
      "{'budget_left': 9927.191910677238, 'current_auction_id': '1533', 'results': [{'auction_id': '1531', 'info': 'slot 1', 'price': 0.8314769510384281}, {'auction_id': '1532', 'info': 'user did not click on your ad', 'price': 0.0}]}\n",
      "{'budget_left': 9926.327767847519, 'current_auction_id': '1582', 'results': [{'auction_id': '1580', 'info': 'slot 1', 'price': 0.8641428297195347}, {'auction_id': '1581', 'info': 'user did not click on your ad', 'price': 0.0}]}\n",
      "{'budget_left': 9925.340854097885, 'current_auction_id': '1587', 'results': [{'auction_id': '1585', 'info': 'slot 1', 'price': 0.9869137496330319}, {'auction_id': '1586', 'info': 'user did not click on your ad', 'price': 0.0}]}\n",
      "{'budget_left': 9924.397451382887, 'current_auction_id': '1603', 'results': [{'auction_id': '1601', 'info': 'slot 1', 'price': 0.9434027149987775}, {'auction_id': '1602', 'info': 'user did not click on your ad', 'price': 0.0}]}\n",
      "{'budget_left': 9923.653454816373, 'current_auction_id': '1608', 'results': [{'auction_id': '1606', 'info': 'slot 1', 'price': 0.7439965665139258}, {'auction_id': '1607', 'info': 'user did not click on your ad', 'price': 0.0}]}\n",
      "{'budget_left': 9922.77990993771, 'current_auction_id': '1613', 'results': [{'auction_id': '1611', 'info': 'slot 1', 'price': 0.8735448786635718}, {'auction_id': '1612', 'info': 'user did not click on your ad', 'price': 0.0}]}\n",
      "{'budget_left': 9922.2570713891, 'current_auction_id': '1631', 'results': [{'auction_id': '1629', 'info': 'slot 1', 'price': 0.5228385486089593}, {'auction_id': '1630', 'info': 'user did not click on your ad', 'price': 0.0}]}\n",
      "{'budget_left': 9921.366484677057, 'current_auction_id': '1640', 'results': [{'auction_id': '1638', 'info': 'slot 1', 'price': 0.8905867120434143}, {'auction_id': '1639', 'info': 'user did not click on your ad', 'price': 0.0}]}\n",
      "{'budget_left': 9920.382269390173, 'current_auction_id': '1650', 'results': [{'auction_id': '1648', 'info': 'slot 1', 'price': 0.9842152868847355}, {'auction_id': '1649', 'info': 'user did not click on your ad', 'price': 0.0}]}\n",
      "{'budget_left': 9919.463936099182, 'current_auction_id': '1666', 'results': [{'auction_id': '1664', 'info': 'slot 1', 'price': 0.9183332909912372}, {'auction_id': '1665', 'info': 'user did not click on your ad', 'price': 0.0}]}\n",
      "{'budget_left': 9918.47831418621, 'current_auction_id': '1685', 'results': [{'auction_id': '1683', 'info': 'slot 1', 'price': 0.9856219129716696}, {'auction_id': '1684', 'info': 'user did not click on your ad', 'price': 0.0}]}\n",
      "{'budget_left': 9917.743667178005, 'current_auction_id': '1690', 'results': [{'auction_id': '1688', 'info': 'slot 1', 'price': 0.7346470082056679}, {'auction_id': '1689', 'info': 'user did not click on your ad', 'price': 0.0}]}\n",
      "{'budget_left': 9916.807176922324, 'current_auction_id': '1692', 'results': [{'auction_id': '1690', 'info': 'slot 1', 'price': 0.9364902556816649}, {'auction_id': '1691', 'info': 'user did not click on your ad', 'price': 0.0}]}\n",
      "{'budget_left': 9915.846834659356, 'current_auction_id': '1708', 'results': [{'auction_id': '1706', 'info': 'slot 1', 'price': 0.9603422629686152}, {'auction_id': '1707', 'info': 'user did not click on your ad', 'price': 0.0}]}\n",
      "{'budget_left': 9914.935278657227, 'current_auction_id': '1713', 'results': [{'auction_id': '1711', 'info': 'slot 1', 'price': 0.911556002129117}, {'auction_id': '1712', 'info': 'user did not click on your ad', 'price': 0.0}]}\n",
      "{'budget_left': 9914.142327122121, 'current_auction_id': '1733', 'results': [{'auction_id': '1731', 'info': 'slot 1', 'price': 0.7929515351058967}, {'auction_id': '1732', 'info': 'user did not click on your ad', 'price': 0.0}]}\n",
      "{'budget_left': 9913.201865342435, 'current_auction_id': '1835', 'results': [{'auction_id': '1833', 'info': 'slot 1', 'price': 0.9404617796863136}, {'auction_id': '1834', 'info': 'user did not click on your ad', 'price': 0.0}]}\n",
      "{'budget_left': 9912.377006709174, 'current_auction_id': '1849', 'results': [{'auction_id': '1847', 'info': 'slot 1', 'price': 0.8248586332616326}, {'auction_id': '1848', 'info': 'user did not click on your ad', 'price': 0.0}]}\n",
      "{'budget_left': 9911.42129528222, 'current_auction_id': '1857', 'results': [{'auction_id': '1855', 'info': 'slot 1', 'price': 0.9557114269530097}, {'auction_id': '1856', 'info': 'user did not click on your ad', 'price': 0.0}]}\n",
      "{'budget_left': 9910.480501552498, 'current_auction_id': '1859', 'results': [{'auction_id': '1857', 'info': 'slot 1', 'price': 0.9407937297218933}, {'auction_id': '1858', 'info': 'user did not click on your ad', 'price': 0.0}]}\n"
     ]
    },
    {
     "name": "stdout",
     "output_type": "stream",
     "text": [
      "{'budget_left': 9909.489503578963, 'current_auction_id': '1876', 'results': [{'auction_id': '1874', 'info': 'slot 1', 'price': 0.9909979735354704}, {'auction_id': '1875', 'info': 'user did not click on your ad', 'price': 0.0}]}\n",
      "{'budget_left': 9908.651276770424, 'current_auction_id': '1918', 'results': [{'auction_id': '1916', 'info': 'slot 1', 'price': 0.8382268085383565}, {'auction_id': '1917', 'info': 'user did not click on your ad', 'price': 0.0}]}\n",
      "{'budget_left': 9907.65677658705, 'current_auction_id': '1956', 'results': [{'auction_id': '1954', 'info': 'slot 1', 'price': 0.9945001833740633}, {'auction_id': '1955', 'info': 'user did not click on your ad', 'price': 0.0}]}\n",
      "{'budget_left': 9906.715483767824, 'current_auction_id': '1990', 'results': [{'auction_id': '1988', 'info': 'slot 1', 'price': 0.941292819224319}, {'auction_id': '1989', 'info': 'user did not click on your ad', 'price': 0.0}]}\n",
      "{'budget_left': 9905.787258299688, 'current_auction_id': '2002', 'results': [{'auction_id': '2000', 'info': 'slot 1', 'price': 0.9282254681374852}, {'auction_id': '2001', 'info': 'user did not click on your ad', 'price': 0.0}]}\n",
      "{'budget_left': 9904.851695394751, 'current_auction_id': '2029', 'results': [{'auction_id': '2027', 'info': 'slot 1', 'price': 0.9355629049365806}, {'auction_id': '2028', 'info': 'user did not click on your ad', 'price': 0.0}]}\n",
      "{'budget_left': 9903.85488373175, 'current_auction_id': '2031', 'results': [{'auction_id': '2029', 'info': 'slot 1', 'price': 0.996811662999916}, {'auction_id': '2030', 'info': 'user did not click on your ad', 'price': 0.0}]}\n",
      "{'budget_left': 9902.887581980343, 'current_auction_id': '2055', 'results': [{'auction_id': '2053', 'info': 'slot 1', 'price': 0.9673017514068091}, {'auction_id': '2054', 'info': 'user did not click on your ad', 'price': 0.0}]}\n",
      "{'budget_left': 9901.952423899676, 'current_auction_id': '2057', 'results': [{'auction_id': '2055', 'info': 'slot 1', 'price': 0.9351580806673283}, {'auction_id': '2056', 'info': 'user did not click on your ad', 'price': 0.0}]}\n",
      "{'budget_left': 9901.20567780674, 'current_auction_id': '2061', 'results': [{'auction_id': '2059', 'info': 'slot 1', 'price': 0.7467460929368815}, {'auction_id': '2060', 'info': 'user did not click on your ad', 'price': 0.0}]}\n",
      "{'budget_left': 9900.404072427908, 'current_auction_id': '2068', 'results': [{'auction_id': '2066', 'info': 'slot 1', 'price': 0.8016053788330999}, {'auction_id': '2067', 'info': 'user did not click on your ad', 'price': 0.0}]}\n",
      "{'budget_left': 9899.494169811263, 'current_auction_id': '2113', 'results': [{'auction_id': '2111', 'info': 'slot 1', 'price': 0.9099026166441244}, {'auction_id': '2112', 'info': 'user did not click on your ad', 'price': 0.0}]}\n",
      "{'budget_left': 9898.526938978112, 'current_auction_id': '2126', 'results': [{'auction_id': '2124', 'info': 'slot 1', 'price': 0.9672308331520728}, {'auction_id': '2125', 'info': 'user did not click on your ad', 'price': 0.0}]}\n",
      "{'budget_left': 9897.593598726777, 'current_auction_id': '2133', 'results': [{'auction_id': '2131', 'info': 'slot 1', 'price': 0.9333402513354189}, {'auction_id': '2132', 'info': 'user did not click on your ad', 'price': 0.0}]}\n",
      "{'budget_left': 9896.663204639264, 'current_auction_id': '2143', 'results': [{'auction_id': '2141', 'info': 'slot 1', 'price': 0.930394087512043}, {'auction_id': '2142', 'info': 'user did not click on your ad', 'price': 0.0}]}\n",
      "{'budget_left': 9895.866344792472, 'current_auction_id': '2145', 'results': [{'auction_id': '2143', 'info': 'slot 1', 'price': 0.796859846791949}, {'auction_id': '2144', 'info': 'user did not click on your ad', 'price': 0.0}]}\n",
      "{'budget_left': 9894.915904598323, 'current_auction_id': '2153', 'results': [{'auction_id': '2151', 'info': 'slot 1', 'price': 0.9504401941490718}, {'auction_id': '2152', 'info': 'user did not click on your ad', 'price': 0.0}]}\n",
      "{'budget_left': 9893.936177459416, 'current_auction_id': '2157', 'results': [{'auction_id': '2155', 'info': 'slot 1', 'price': 0.9797271389064064}, {'auction_id': '2156', 'info': 'user did not click on your ad', 'price': 0.0}]}\n",
      "{'budget_left': 9893.033185027232, 'current_auction_id': '2161', 'results': [{'auction_id': '2159', 'info': 'slot 1', 'price': 0.90299243218422}, {'auction_id': '2160', 'info': 'user did not click on your ad', 'price': 0.0}]}\n",
      "{'budget_left': 9892.1405498861, 'current_auction_id': '2196', 'results': [{'auction_id': '2194', 'info': 'slot 1', 'price': 0.8926351411315139}, {'auction_id': '2195', 'info': 'user did not click on your ad', 'price': 0.0}]}\n",
      "{'budget_left': 9891.146659479653, 'current_auction_id': '2200', 'results': [{'auction_id': '2198', 'info': 'slot 1', 'price': 0.9938904064471195}, {'auction_id': '2199', 'info': 'user did not click on your ad', 'price': 0.0}]}\n",
      "{'budget_left': 9890.311286711587, 'current_auction_id': '2224', 'results': [{'auction_id': '2222', 'info': 'slot 1', 'price': 0.8353727680651047}, {'auction_id': '2223', 'info': 'user did not click on your ad', 'price': 0.0}]}\n",
      "{'budget_left': 9889.336749415546, 'current_auction_id': '2234', 'results': [{'auction_id': '2232', 'info': 'slot 1', 'price': 0.974537296041275}, {'auction_id': '2233', 'info': 'user did not click on your ad', 'price': 0.0}]}\n",
      "{'budget_left': 9888.58473004601, 'current_auction_id': '2295', 'results': [{'auction_id': '2293', 'info': 'slot 1', 'price': 0.7520193695361113}, {'auction_id': '2294', 'info': 'user did not click on your ad', 'price': 0.0}]}\n",
      "{'budget_left': 9887.641191359444, 'current_auction_id': '2311', 'results': [{'auction_id': '2309', 'info': 'slot 1', 'price': 0.9435386865655792}, {'auction_id': '2310', 'info': 'user did not click on your ad', 'price': 0.0}]}\n",
      "{'budget_left': 9886.73724940836, 'current_auction_id': '2324', 'results': [{'auction_id': '2322', 'info': 'slot 1', 'price': 0.9039419510841935}, {'auction_id': '2323', 'info': 'user did not click on your ad', 'price': 0.0}]}\n",
      "{'budget_left': 9885.756800775102, 'current_auction_id': '2358', 'results': [{'auction_id': '2356', 'info': 'slot 1', 'price': 0.980448633258625}, {'auction_id': '2357', 'info': 'user did not click on your ad', 'price': 0.0}]}\n",
      "{'budget_left': 9884.802767001718, 'current_auction_id': '2362', 'results': [{'auction_id': '2360', 'info': 'slot 1', 'price': 0.9540337733836912}, {'auction_id': '2361', 'info': 'user did not click on your ad', 'price': 0.0}]}\n",
      "{'budget_left': 9883.951606522056, 'current_auction_id': '2420', 'results': [{'auction_id': '2418', 'info': 'slot 1', 'price': 0.8511604796620376}, {'auction_id': '2419', 'info': 'user did not click on your ad', 'price': 0.0}]}\n",
      "{'budget_left': 9883.044197069019, 'current_auction_id': '2423', 'results': [{'auction_id': '2421', 'info': 'slot 1', 'price': 0.9074094530368426}, {'auction_id': '2422', 'info': 'user did not click on your ad', 'price': 0.0}]}\n",
      "{'budget_left': 9882.24056052501, 'current_auction_id': '2427', 'results': [{'auction_id': '2425', 'info': 'slot 1', 'price': 0.8036365440101965}, {'auction_id': '2426', 'info': 'user did not click on your ad', 'price': 0.0}]}\n",
      "{'budget_left': 9881.289980468724, 'current_auction_id': '2435', 'results': [{'auction_id': '2433', 'info': 'slot 1', 'price': 0.9505800562851527}, {'auction_id': '2434', 'info': 'user did not click on your ad', 'price': 0.0}]}\n",
      "{'budget_left': 9880.388057277241, 'current_auction_id': '2444', 'results': [{'auction_id': '2442', 'info': 'slot 1', 'price': 0.9019231914822778}, {'auction_id': '2443', 'info': 'user did not click on your ad', 'price': 0.0}]}\n",
      "{'budget_left': 9879.484404053197, 'current_auction_id': '2462', 'results': [{'auction_id': '2460', 'info': 'slot 1', 'price': 0.9036532240435498}, {'auction_id': '2461', 'info': 'user did not click on your ad', 'price': 0.0}]}\n",
      "{'budget_left': 9878.559573758967, 'current_auction_id': '2477', 'results': [{'auction_id': '2475', 'info': 'slot 1', 'price': 0.9248302942312037}, {'auction_id': '2476', 'info': 'user did not click on your ad', 'price': 0.0}]}\n",
      "{'budget_left': 9877.730662707289, 'current_auction_id': '2488', 'results': [{'auction_id': '2486', 'info': 'slot 1', 'price': 0.8289110516784555}, {'auction_id': '2487', 'info': 'user did not click on your ad', 'price': 0.0}]}\n",
      "rounds:  11362 won:  72 percentage:  36.0\n"
     ]
    }
   ],
   "source": [
    "## Below we provide some skeleton code for this task\n",
    "\n",
    "import requests\n",
    "import json\n",
    "import time\n",
    "import random\n",
    "\n",
    "team_id = \"1\" # change it to the team ID we'll provide you through slack\n",
    "key = \"5b3869104ae0489586a144a5d7ef6da1\"  # change it to the key we'll provide you through slack\n",
    "url = 'http://127.0.0.1:5000'\n",
    "MAX_AUCTION_ID = 2500   # this may change; you should use it as a parameter in your algorithm to adjust your strategy\n",
    "\n",
    "def bid_algorithm(budget_left, auction_id, last_bid, won, price_paid):\n",
    "    \"\"\"\n",
    "    this is your bidding algorithm\n",
    "    \"\"\"\n",
    "    bid_amount = 0\n",
    "    if not won and last_bid + 1 < budget_left:\n",
    "        bid_amount = last_bid + random.random()\n",
    "    elif won and price_paid < budget_left:\n",
    "        bid_amount = price_paid\n",
    "    elif auction_id in range(auction_id- (int) (auction_id/4), auction_id +1):\n",
    "        bid_amount = budget_left/5\n",
    "    else:\n",
    "        bid_amount = random.random() + 3\n",
    "#     print(bid_amount)\n",
    "    return bid_amount\n",
    "\n",
    "def main():\n",
    "    count_won = 0\n",
    "    num = 0\n",
    "    auction_id = 0\n",
    "    last_bid = 1\n",
    "    last_winning_price = -1\n",
    "    count = 2\n",
    "    while True:\n",
    "        num += 1\n",
    "        body = {'team_id': team_id,\n",
    "                'key': key,\n",
    "                'count': 1\n",
    "               }\n",
    "        r = requests.post(url + '/results', json=body)\n",
    "        if r and r.json() and 'current_auction_id' in r.json():\n",
    "            t = int(r.json()['current_auction_id'])\n",
    "            if t > int(auction_id):  # new auction_id found. send new bid\n",
    "                auction_id = t\n",
    "                \n",
    "                # you could potentially call the /stats API here if your algorithm uses that \n",
    "                # create the body for the /bid request\n",
    "                stats_body = {'team_id': team_id,\n",
    "                        'key': key }\n",
    "                s = requests.post(url + '/stats', json=stats_body) \n",
    "#                 print(s.json())\n",
    "                res_body = {'team_id': team_id,\n",
    "                        'key': key,\n",
    "                        'count': count }\n",
    "\n",
    "                res = requests.post(url + '/results', json=res_body) \n",
    "                res_json = res.json()\n",
    "                if last_winning_price is not -1:\n",
    "                    print(res_json) \n",
    "                budget_left = res_json.get('budget_left')\n",
    "                price_paid = res_json.get('results')[count-1]['price']\n",
    "                won = price_paid > 0\n",
    "                if won:\n",
    "                    last_winning_price = price_paid\n",
    "                    count_won +=1\n",
    "                else:\n",
    "                    last_winning_price = -1\n",
    "                if budget_left <= 0:\n",
    "                    break\n",
    "\n",
    "                # information to determine the bid amount\n",
    "                bid_amount = bid_algorithm(budget_left, auction_id, last_bid, won, last_winning_price) # call your algorithm to determine how much to bid\n",
    "                last_bid = bid_amount\n",
    "                # create the body for the /bid request\n",
    "                body = {'team_id': team_id,\n",
    "                        'key': key,\n",
    "                        'auction_id': auction_id,\n",
    "                        'bid_amount': bid_amount }\n",
    "                r = requests.post(url + '/bid', json=body) \n",
    "#                 print(r.json()) \n",
    "\n",
    "\n",
    "        time.sleep(0.1) # please do this to avoid flooding the server\n",
    "        \n",
    "        if int(auction_id) == MAX_AUCTION_ID:\n",
    "            break\n",
    "    print(\"rounds: \", num, \"won: \", count_won, \"percentage: \", count_won/count)\n",
    "main()"
   ]
  },
  {
   "cell_type": "markdown",
   "metadata": {},
   "source": [
    "*Write your answer here*"
   ]
  },
  {
   "cell_type": "markdown",
   "metadata": {},
   "source": [
    "## Information Disclosure in Advertising Auctions\n",
    "\n",
    "In the real world of online advertising, consumers are heterogeneous in their preferences for products. Platforms that auction off ad slots may also aggregate information on consumers and provide that information to potential advertisers so that they can target individual agents. Advertisers now compete for consumer demand (price competition) as well as for a slot in the auction. Policies of information disclosure and consumer privacy change how advertisers bid and price their products.\n",
    "\n",
    "More information can be found in [Online Advertising and Privacy](https://www.law.northwestern.edu/research-faculty/searlecenter/workingpapers/documents/de_Corniere_Online_Advertising_and_Privacy.pdf) by de Corniere and de Nijs."
   ]
  },
  {
   "cell_type": "markdown",
   "metadata": {},
   "source": [
    "   <div class=\"alert alert-block alert-warning\">\n",
    "    <b>Problem 9.</b>  Discuss your intuition for bidding in auction where you're able to target consumers and increase your chance of getting a click. Compare your intuition with the ideas presented by de Corniere and de Nijs.\n",
    "    </div>"
   ]
  },
  {
   "cell_type": "markdown",
   "metadata": {},
   "source": [
    "## In-class Competition\n",
    "\n",
    "There will be an in-class auction on **Tuesday, 3 March**. At least one member of your team will need to bring a laptop to class that is setup and ready to run your auction client. For the in-class on-line auction, we will run auctions where all the teams in the class are competing participants. The in-class auction will consist of roughly 2500 consecutive auctions each (the actual number of rounds will be given by the `MAX_AUCTION_ID` variable)."
   ]
  },
  {
   "cell_type": "markdown",
   "metadata": {},
   "source": [
    "<div class=\"alert alert-block alert-danger\">\n",
    "    \n",
    "As with previous projects, submit your final Project 4 notebook by **Tuesday, 3 March, 9:29am** to a group slack containing you and your teammate and the four course staff: @Dave @Denis Nekipelov @Cam @Kyeongtak Do. After you submit your notebook, you will receive an API key that you will need to connect to the server for the in-class auction.\n",
    "\n",
    "You should include a comment at the top of the notebook that contains:\n",
    "\n",
    "The names and UVA email ids of the people submitting (you and your teammates)\n",
    "A note on anyone else you collaborated with and how, and external resources you used.\n",
    "\n",
    "</div>"
   ]
  },
  {
   "cell_type": "code",
   "execution_count": null,
   "metadata": {},
   "outputs": [],
   "source": []
  }
 ],
 "metadata": {
  "kernelspec": {
   "display_name": "Python 3",
   "language": "python",
   "name": "python3"
  },
  "language_info": {
   "codemirror_mode": {
    "name": "ipython",
    "version": 3
   },
   "file_extension": ".py",
   "mimetype": "text/x-python",
   "name": "python",
   "nbconvert_exporter": "python",
   "pygments_lexer": "ipython3",
   "version": "3.7.4"
  }
 },
 "nbformat": 4,
 "nbformat_minor": 2
}
