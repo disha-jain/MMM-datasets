{
 "cells": [
  {
   "cell_type": "markdown",
   "metadata": {},
   "source": [
    "Team submitting this assignment:  \n",
    "_<b>Sindhu Ranga (sgr7vc), Disha Jain (dj9am), Jason Quinn (jtq5ba), Sameer Gupta (sg4vh)</b>_\n",
    "\n",
    "External resources used:  \n",
    "_it is not necessary to list the course materials, but if you used any other resources, including discussing problems with students not on your team, list them here_"
   ]
  },
  {
   "cell_type": "markdown",
   "metadata": {},
   "source": [
    "# Project 4: On-line Advertising Auctions\n",
    "\n",
    "   <div class=\"alert alert-block alert-danger\">\n",
    "    Due <b>Tuesday, 3 March, 9:29am</b>. We will run an on-line auction in class on Tuesday, 3 March. \n",
    "   </div>\n",
    "    \n",
    "The purpose of this assignment is to learn about auction mechanisms, how to analyze equilibrium for different multi-player games, and how to develop an effective strategy for a multi-player, multi-good auction.\n",
    "\n",
    "As part of this project, you will participate in a sponsored search auction, much like the one Google uses to select the ads it displays during a query. You will design and implement a bidding algorithm where the goal is to maximize the number of clicks you can obtain in a series of generalized second price auctions, competing with other teams in the class. Each team will be given a budget of $10,000 (imaginary dollars, of course!). Although there will be a bonus for doing well in the final auction, this will not be the primary factor in grading this assignment. We are more interested in how you understand the theory and develop your algorithm.\n",
    "\n",
    "You should work in a team of 3 or 4 students consistent of at least one Economics major and one Computer Science major. You may continue to work with the same people you have worked on for previous projects, but are encouraged to consider whether it would be more beneficial to gain experience working with others by switching your team."
   ]
  },
  {
   "cell_type": "markdown",
   "metadata": {},
   "source": [
    "## Auction Design\n",
    "\n",
    "Like Google's ad words auctions, we will use a _generalized second price auction_ where you will be bidding for an ad position on a web page. \n",
    "\n",
    "The primary reference papers for this assignment are: \n",
    "\n",
    "- Benjamin Edelman, Michael Ostrovsky, and Michael Schwarz. [_Internet Advertising and the Generalized Second-Price Auction:Selling Billions of Dollars Worth of Keywords_](//uvammm.github.io/docs/edelman.pdf). American Economic Review 2007.\n",
    "\n",
    "- Hal Varian. [_Position Auctions_](//uvammm.github.io/docs/position.pdf). International Journal of Industrial Organization 2007.\n",
    "\n",
    "In each auction there will be three advertisement slots available, with slot 1 being at the top, slot 2 being below 1, and 3 below 2. These correspond to the most desirable placements on the generated page. For the same ad and user population, slot 1 has a click rate of 6%, slot 2 has a click rate of 3%, and slot 3 has a click rate of 1%. Slots are sold in a _pay-per-click_ fashion where a bidder pays for a slot only if their ad is clicked. \n",
    "\n",
    "Each auction proceeds as follows:\n",
    "\n",
    "1. Participants submit their bids.\n",
    "2. A user arrives and submits a search query.\n",
    "3. The bids are ranked by magnitude with the top three bids that exceed the reserve price (25 cents) getting the three available slots.\n",
    "4. The highest bidder out of those three receives the first slot, the second highest bidder receives slot 2, and the third highest bidder receives slot 3.\n",
    "5. A bidder pays only if their ad is clicked and the payment rules are as follows:\n",
    "    * Bidder 1 pays a price equal to bid 2\n",
    "    * Bidder 2 pays a price equal to bid 3\n",
    "    * Bidder 3 pays a price equal to bid 4 or the reserve price, whichever is higher\n",
    "    \n",
    "Notice that a winning bidder only pays when their ad gets clicked, and we assume that at most one ad will be clicked per user search query. After the auction takes place, the bidder is notified if the user clicked on your ad or not. If the bidder's ad received a click, the message returned to you will tell you the slot you were in and the price you paid, relayed as (slot, price). The message \"user did not click on your ad\" will be returned if you won the auction but received no click or if you lost the auction. Therefore, you should be thinking about optimization strategies that fit into this limited information framework. \n"
   ]
  },
  {
   "cell_type": "markdown",
   "metadata": {},
   "source": [
    "   <div class=\"alert alert-block alert-warning\">\n",
    "   \n",
    "   <b>Problem 1.</b> Suppose we're analyzing a repeated Generalized Second Price Auction, as described above. What type of equilibrium is used to model this market in _Internet Advertising and the Generalized Second-Price Auction:Selling Billions of Dollars Worth of Keywords_?  What information is private and what is common knowledge to all players? \n",
    "   \n",
    "   </div>"
   ]
  },
  {
   "cell_type": "markdown",
   "metadata": {},
   "source": [
    "Advertisers know information regarding their own bid types in the beginning and over time learn about the values of others. The most important knowledge is the value of other players bids, and we assume that over time this knowledge becomes common. In the model above, a Locally Envy-Free Equilibria is used. Conventionally, the equilibrium would involve players adjusting their bids over time as they learn values of other bids and program robots to implement such strategies; however, search engines limit this by requiring authorization. In a Locally Envy-Free Equilibria, no bidder can improve his payoff by swapping bids with another player. This equilibrium is considered the rest point because all the players' behavior converges to that vector."
   ]
  },
  {
   "cell_type": "markdown",
   "metadata": {},
   "source": [
    "   <div class=\"alert alert-block alert-warning\">\n",
    "    <b>Problem 2.</b> Suppose there are $n$ ad slots with click-through rates denoted $r_1\\geq r_2\\geq ... \\geq r_n$ $\\forall k\\in n$ (for simplicity, we assume the click-through rate depends only on the position and not on the ad). There are also $n$ bidders, with their bids ranked $b_1\\geq b_2\\geq ... \\geq b_n$. What is the expected net payoff for bidder $i$ with value $v_i$ and bid $b_i$ who is awarded slot $k$? \n",
    "    </div>"
   ]
  },
  {
   "cell_type": "markdown",
   "metadata": {},
   "source": [
    "The expected net payoff for bidder i is the total value he receives from being awarded slot k minus the bid price he paid for slot k. That difference is multiplied by the expected number of clicks received by bidder i in slot k otherwise known as the click-through rate r of position i.\n",
    "\n",
    "*E[P] = (vi - bi-1)*ri such that i = k (bidder 1 gets slot 1)*"
   ]
  },
  {
   "cell_type": "markdown",
   "metadata": {},
   "source": [
    "   <div class=\"alert alert-block alert-warning\">\n",
    "    <b>Problem 3.</b> Find the envy-free ex post Nash equilibrium for this auction where there is only one slot available. Demonstrate that your answer is in fact an equilibrium.\n",
    "    </div>"
   ]
  },
  {
   "cell_type": "markdown",
   "metadata": {},
   "source": [
    "$(v_k - b_{(n+1)})*r_n \\geq (v_k - b_n)* r_{(n-1)}$\n",
    "\n",
    "In an envy free nash equilibrium, no player can improve their payoff by exchanging bids with the player ranked one position ahead of them. This is an equilibrium where the total expected revenue to the seller is at least as high as in the dominant strategy equilibrium in the VCG auction. "
   ]
  },
  {
   "cell_type": "markdown",
   "metadata": {},
   "source": [
    "   <div class=\"alert alert-block alert-warning\">\n",
    "    <b>Problem 4.</b> Is it a dominant strategy to bid your true value when there is more than one slot up for auction? Explain or provide a counter example.\n",
    "    </div>"
   ]
  },
  {
   "cell_type": "markdown",
   "metadata": {},
   "source": [
    "Because there is more than one slot up for auction and we are in a GSP type of auction, it is not a dominant strategy to bid your true value. Unlike VCG-like auctions, there isn’t a dominant strategy in GSP auctions and bidding true values isn’t a dominant strategy in GSP auctions. For example, there is no dominant strategy if there are two spots with click-through rates (CTR) of 200 per month and 199 month and three Advertisers with value per click of 10 USD, 4 USD, and 2 USD respectively. If Advertiser 1 bids 3 USD when his true value is 10 USD, he will win the second position and his payoff is (10-2)199=1592. But if he bids truthfully, he wins the first position and his payoff is (10-4)200=1200. Therefore, depending on the CTR, the number of advertisers, and value of his bid, the payoff changes and his strategy changes; however, there isn’t a dominant strategy to bidding your true value in GSP auctions."
   ]
  },
  {
   "cell_type": "markdown",
   "metadata": {},
   "source": [
    "   <div class=\"alert alert-block alert-warning\">\n",
    "    <b>Problem 5.</b> Suppose you're playing a one-shot game with $k$ slots in the auction and $n$ bidders, how should you bid? (A written description is acceptable for this question, you do not have to derive a bidding function).\n",
    "    </div>"
   ]
  },
  {
   "cell_type": "markdown",
   "metadata": {},
   "source": [
    "If you are playing a one shot-game, you assume that stable bids must be the best responses to one another, otherwise, an advertiser whose bid is not a best response would have an incentive to change it. Thus, we assume that the bids form an equilib- rium in the simultaneous-move, one-shot game of complete information. A simple clear strategy would be to try and force out the player who occupies the position right above them. If the vector converges, an advertiser would not want to exchange positions with advertiser in position (i-1) this would be a locally envy-free equilibrium."
   ]
  },
  {
   "cell_type": "markdown",
   "metadata": {},
   "source": [
    "   <div class=\"alert alert-block alert-warning\">\n",
    "    <b>Problem 6.</b> If you're playing a repeated game with $k$ slots and $n$ bidders, how should your bid evolve over time? Specifically, how would you use the feedback provided by the auctioneer to update your bid?\n",
    "    </div>"
   ]
  },
  {
   "cell_type": "markdown",
   "metadata": {},
   "source": [
    "Because bids are unknown to begin with and overtime players learn the values of other bids, it is plausible that there are other strategies the players must use to win the GSP auction and capture the most consumer surplus by winning bids at lower prices than the true value a player is willing to pay. The feedback from the auctioneer includes the average winning bid prices for the past 10 bids for each slot (1,2, & 3) and whether or not our advertisement was clicked. The feedback an auctioneer provides should inform a player’s next bid in an auction. If our bid is below the average winning bid of slot 3, then we should raise our bid prices for the next auction by half of our true willingness to pay for a bid. If our bid won only slot 3, then it is in our best strategy to swap spots with the winner of slot 2. In this case, we would bid our true value or the average winning bid price for slot 2, whichever is lower. Overtime, bid would evolve to their true prices. Therefore overtime, n bidders learn/get closer to the true bid prices of n bidders and have a better chance of winning k slots."
   ]
  },
  {
   "cell_type": "markdown",
   "metadata": {},
   "source": [
    "## Bidding Algorithm\n",
    "\n",
    "For the next part of this assignment, you will design a bidding algorithm and test it on synthetic data by generating random opponent bids. Your algorithm should follow these basic guidelines:\n",
    "\n",
    "1. It needs to propose a starting bid.\n",
    "2. It needs to keep track of your budget and stop bidding once your balance is 0.\n",
    "3. It cannot bid more than your remaining balance.\n",
    "\n",
    "Your goal is to devise a bidding algorithm that maximizes your total return."
   ]
  },
  {
   "cell_type": "markdown",
   "metadata": {},
   "source": [
    "   <div class=\"alert alert-block alert-warning\">\n",
    "    <b>Problem 7.</b> What're the economic principles that are guiding your algorithm? What information does your algorithm need consider each time it updates? Finally, describe the strategy your team is adopting.\n",
    "    </div>"
   ]
  },
  {
   "cell_type": "markdown",
   "metadata": {},
   "source": [
    "The economic principles we used were:\n",
    "- Buy low, sell high\n",
    "- Rational actors use what they know to inform their decisions (in this case, the assumption is that people will use the average of the winning bid prices that they are given).\n",
    "\n",
    "The information our algorithm takes in is the last two averages of the bid prices that we are given for each of the slots. We use this information to find the changes in the average value over time and detect if it is going up or down.\n",
    "\n",
    "Our Strategy:\n",
    "- Sporadically bid high prices to force others to pay at high prices if operating based on the last winning bid; forces them to pay more, run them out of money\n",
    "- Observing bid price trends, when prices trend down (i.e. derivative is 0 or negative) buy higher than average, when prices trend up (i. e. derivative is positive) buy at lowest winning price (essentially knocking ourselves out of the round).\n"
   ]
  },
  {
   "cell_type": "markdown",
   "metadata": {},
   "source": [
    "   <div class=\"alert alert-block alert-warning\">\n",
    "    <b>Problem 8.</b> Develop a bidding algorithm based on your answer above. Test the algorithm against randomly generated synthetic bids, keeping track of your wins and noting what changes you make during this process.\n",
    "    </div>\n",
    "    \n",
    "**Helpful Tips:** Your algorithm should be a function that takes information on your winning status and the price you paid (if you won) as arguments, uses that information to update your bid, then returns a new bid. To simulate the bidding environment, you can draw random bids from a bounded distribution, order all bids, and follow the rules of the auction design above. It would be helpful to also keep track of all the data from this test so you can see how your algorithm is performing and what modifications you may need to make."
   ]
  },
  {
   "cell_type": "code",
   "execution_count": null,
   "metadata": {},
   "outputs": [],
   "source": [
    "# write your code here"
   ]
  },
  {
   "cell_type": "markdown",
   "metadata": {},
   "source": [
    "## Interacting with the Server\n",
    "\n",
    "In order to participate in the in-class auction, you will be interacting with our server. The information below outlines how to interact with the server. \n",
    "\n",
    "Instructions to run the auction server:\n",
    "\n",
    "1. Install `redis` on your machine (the easiest way to do this is `brew install redis` (on Mac OS X) but [see documentation here](https://redis.io/topics/quickstart) for building from sources on other Linux platforms).\n",
    "2. Run the `redis` server: `redis-server`\n",
    "2. Download the [`app.py`](https://github.com/uvammm/uvammm.github.io/blob/master/src/content/projects/project4/app.py), [`auction.py`](https://github.com/uvammm/uvammm.github.io/blob/master/src/content/projects/project4/auction.py), \n",
    "[`keys.json`](https://github.com/uvammm/uvammm.github.io/blob/master/src/content/projects/project4/keys.json), \n",
    "and [`requirements.txt`](https://github.com/uvammm/uvammm.github.io/blob/master/src/content/projects/project4/requirements.txt) files.\n",
    "3. `pip install -r requirements.txt`\n",
    "4. Run `python app.py` in a shell. This runs the server side of the auction that provides the client API.\n",
    "5. Run `python auction.py` in a new shell (keep the shell from step 4 running). \n",
    "\n",
    "Following is the API documentation for communicating with the server. You should\n",
    "write a client to call the API and submit your bids. Each of the API endpoints expects a JSON request body.\n",
    "\n",
    "### Bid API\n",
    "\n",
    "Use this endpoint to submit your bids.\n",
    "\n",
    "```\n",
    "POST /bid\n",
    "parameters: team_id, key, auction_id, bid_amount\n",
    "```\n",
    "\n",
    "#### Description of API parameters\n",
    "\n",
    "`team_id` is a string parameter representing the team ID (which we will provide to\n",
    "you)\n",
    "\n",
    "`key` is string parameter representing secret key for your team (we will provide this too)\n",
    "\n",
    "`auction_id` is an integer corresponding to the current auction number. Each auction has a unique ID. The first auction will have an `auction_id` of 1, the next one will have 2, and so on. If you're unsure of what the current `auction_id` is, see below how to call get the current `auction_id` from the `/results` endpoint.\n",
    "\n",
    "`bid_amount` is a real positive number representing the amount you're bidding.\n",
    "Make sure this number is not greater than your remaining budget.\n",
    "\n",
    "All of the above parameters are required.\n",
    "\n",
    "\n",
    "#### Response from server\n",
    "\n",
    "`message` will contain the \"Successfully submitted the bid\" if the bid is valid. \n",
    "\n",
    "`error` will contain an error message if there is something wrong with the\n",
    "request.\n",
    "\n",
    "#### Example request and response bodies\n",
    "\n",
    "Example request body: \n",
    "`{ 'team_id': '1', 'key': '5b3869104ae0489586a144a5d7ef6da1', 'auction_id': 1, 'bid_amount': 2.73}` \n",
    "Example response body: \n",
    "`{ 'message': 'Successfully submitted the bid' }`\n",
    "\n",
    "\n",
    "\n",
    "### Results API\n",
    "\n",
    "Use this API to get results from your previous bids.\n",
    "\n",
    "```\n",
    "POST /results\n",
    "parameters: team_id, key, count\n",
    "```\n",
    "\n",
    "#### Description of API parameters\n",
    "\n",
    "`team_id` is a string parameter representing the team ID (which we will provide\n",
    "to each team)\n",
    "\n",
    "`key` is string parameter representing the secret key for your team (we will\n",
    "provide this too)\n",
    "\n",
    "`count` is an integer parameter representing how many previous results you want\n",
    "to access.\n",
    "\n",
    "\n",
    "#### Response from server\n",
    "\n",
    "`results` is an array of size `count` containing results from your last `count`\n",
    "bids. Each entry of the array will contain the fields `auction_id`, `info` and\n",
    "`price`.\n",
    "\n",
    "`auction_id`: this will be the auction ID.\n",
    "`info`: this will contain either `slot 1`, `slot 2`, `slot 3` or `user did not\n",
    "click on your ad`.\n",
    "`price`: this will be the amount you paid.\n",
    "\n",
    "`budget_left` will contain the amount of budget you have left.\n",
    "\n",
    "`current_auction_id` will contain the current `auction_id`. Use this to know which\n",
    "`auction_id` to use for your next `/bid` API call.\n",
    "\n",
    "`error` will contain an error message if there is something wrong with the\n",
    "request.\n",
    "\n",
    "#### Example request and response bodies\n",
    "\n",
    "Example request body: \n",
    "`{ 'team_id': '1', 'key': '5b3869104ae0489586a144a5d7ef6da1', 'count': 2 }`\n",
    "\n",
    "Example response body: \n",
    "`{ 'results': [{'auction_id': 2, 'info': 'slot 1', 'price': 1.83 }, {'auction_id': 1, 'info': 'user did not click on your ad', 'price': 0.0}], 'budget_left': 9998.17, 'current_auction_id': 3 }`\n",
    "\n",
    "### Stats API\n",
    "Use this API to get stats from last 10 rounds of bidding.\n",
    "\n",
    "```\n",
    "POST /stats\n",
    "parameters: team_id, key\n",
    "```\n",
    "\n",
    "#### Description of API parameters\n",
    "\n",
    "`team_id` is a string parameter representing the team ID (which we will provide\n",
    "to each team)\n",
    "\n",
    "`key` is string paramter representing the secret key for your team (we will\n",
    "provide this too)\n",
    "\n",
    "\n",
    "#### Response from server\n",
    "`stats` is an array of size 3 containing the average winning bid for slots 1, 2,\n",
    "and 3 respetively from the 10 previous rounds.\n",
    "\n",
    "`error` will contain an error message if there is something wrong with the\n",
    "request.\n",
    "\n",
    "#### Example request and response bodies\n",
    "\n",
    "Example request body: \n",
    "`{ 'team_id': '1', 'key': '5b3869104ae0489586a144a5d7ef6da1'}`\n",
    "\n",
    "Example response body: \n",
    "`{ 'stats': [2.54, 1.75, 1.54] }`\n"
   ]
  },
  {
   "cell_type": "markdown",
   "metadata": {},
   "source": [
    "### Example Python code for making API requests:"
   ]
  },
  {
   "cell_type": "code",
   "execution_count": null,
   "metadata": {
    "scrolled": false
   },
   "outputs": [],
   "source": [
    "import requests\n",
    "import json\n",
    "\n",
    "team_id = \"1\" # change it to the team ID we'll provide you through slack\n",
    "key = \"5b3869104ae0489586a144a5d7ef6da1\"  # change it to the key we'll provide you through slack\n",
    "url = 'http://127.0.0.1:5000'\n",
    "\n",
    "# body for /bid call\n",
    "body = {'team_id': team_id,\n",
    "        'key': key,\n",
    "        'auction_id': 1,\n",
    "        'bid_amount': 2.35 }\n",
    "\n",
    "r = requests.post(url + '/bid', json=body) \n",
    "print(r.json()) \n",
    "\n",
    "# body for /results call\n",
    "body = {'team_id': team_id,\n",
    "        'key': key,\n",
    "        'count': 2 }\n",
    "\n",
    "r = requests.post(url + '/results', json=body) \n",
    "print(r.json()) \n",
    "\n",
    "# body for /stats call\n",
    "body = {'team_id': team_id,\n",
    "        'key': key }\n",
    "\n",
    "r = requests.post(url + '/stats', json=body) \n",
    "print(r.json()) "
   ]
  },
  {
   "cell_type": "markdown",
   "metadata": {},
   "source": [
    "   <div class=\"alert alert-block alert-warning\">\n",
    "    <b>Problem 8.</b> Integrate your algorithm with the API, as per the example above. You should update your code so that your algorithm can query the server for information and use that information to update the bid. It also needs to keep track of the clicks you receive.\n",
    "    </div>"
   ]
  },
  {
   "cell_type": "code",
   "execution_count": null,
   "metadata": {},
   "outputs": [],
   "source": [
    "## Below we provide some skeleton code for this task\n",
    "\n",
    "import requests\n",
    "import json\n",
    "import time\n",
    "import random\n",
    "\n",
    "team_id = \"9\" # change it to the team ID we'll provide you through slack\n",
    "key = \"5b3869104ae0489586a144a5d7ef6da1\"  # change it to the key we'll provide you through slack\n",
    "url = 'http://ec2-18-218-112-198.us-east-2.compute.amazonaws.com:8080'\n",
    "MAX_AUCTION_ID = 2500   # this may change; you should use it as a parameter in your algorithm to adjust your strategy\n",
    "\n",
    "\n",
    "def bid_algorithm(budget_left, auction_id, last_bid, won, price_paid, last_two_aves,high_bid_warning, high_bid_count ):\n",
    "    \"\"\"\n",
    "    this is your bidding algorithm\n",
    "    \"\"\"\n",
    "    if high_bid_warning:\n",
    "        if high_bid_count < 10:\n",
    "            high_bid_count+=1\n",
    "            return 0\n",
    "        else:\n",
    "            high_bid_count = 0\n",
    "            high_bid_warning = False\n",
    "    random_seed= random.random()\n",
    "    if random_seed < 0.06 and random_seed > 0:\n",
    "        bid_amount = random.random() * 200 + 400\n",
    "        if bid_amount < budget_left:\n",
    "            return bid_amount\n",
    "    bid_amount = 0\n",
    "    if not won:\n",
    "        diff_slot_1 = last_two_aves[0][0] - last_two_aves[1][0]\n",
    "        diff_slot_2 = last_two_aves[0][1] - last_two_aves[1][1]\n",
    "        diff_slot_3 = last_two_aves[0][2] - last_two_aves[1][2]\n",
    "        if diff_slot_1 <= 0 and last_two_aves[0][0] + 2 < budget_left:\n",
    "            bid_amount = last_two_aves[0][0] + 1 + random.random()\n",
    "        elif diff_slot_2 <= 0 and last_two_aves[0][1] + 2 < budget_left:\n",
    "            bid_amount = last_two_aves[0][1] + 1 + random.random()\n",
    "        elif diff_slot_3 <= 0 and last_two_aves[0][2] + 2 < budget_left:\n",
    "            bid_amount = last_two_aves[0][2] + 1 + random.random()\n",
    "        else:\n",
    "            if diff_slot_1 >= 2* last_two_aves[1][0]:\n",
    "                high_bid_warning = True\n",
    "                return 0\n",
    "            if last_two_aves[0][2] < budget_left:\n",
    "                bid_amount = last_two_aves[0][2]\n",
    "            else:\n",
    "                bid_amount = 0\n",
    "    elif won and price_paid + 2 < budget_left:\n",
    "        bid_amount = price_paid + 1 + random.random()\n",
    "    elif auction_id in range(auction_id- (int) (auction_id/4), auction_id +1):\n",
    "        bid_amount = budget_left/5\n",
    "    else:\n",
    "        bid_amount = budget_left\n",
    "#     print(bid_amount)\n",
    "    return bid_amount\n",
    "\n",
    "def main():\n",
    "    count_won = 0\n",
    "    num = 0\n",
    "    auction_id = 0\n",
    "    last_bid = 1\n",
    "    high_bid_warning = False\n",
    "    high_bid_count = 0\n",
    "    last_winning_price = -1\n",
    "    last_two_aves = [[0,0,0],[0,0,0]]\n",
    "#     un_averaged_averages\n",
    "    count = 2\n",
    "    while True:\n",
    "        num += 1\n",
    "        body = {'team_id': team_id,\n",
    "                'key': key,\n",
    "                'count': 1\n",
    "               }\n",
    "        r = requests.post(url + '/results', json=body)\n",
    "        if r and r.json() and 'current_auction_id' in r.json():\n",
    "            t = int(r.json()['current_auction_id'])\n",
    "            if t > int(auction_id):  # new auction_id found. send new bid\n",
    "                auction_id = t\n",
    "                \n",
    "                # you could potentially call the /stats API here if your algorithm uses that \n",
    "                # create the body for the /bid request\n",
    "                stats_body = {'team_id': team_id,\n",
    "                        'key': key }\n",
    "                s = requests.post(url + '/stats', json=stats_body) \n",
    "                print(s.json())\n",
    "                last_two_aves[1] = last_two_aves[0]\n",
    "                last_two_aves[0] = s.json().get('stats')\n",
    "                res_body = {'team_id': team_id,\n",
    "                        'key': key,\n",
    "                        'count': count }\n",
    "\n",
    "                res = requests.post(url + '/results', json=res_body) \n",
    "                res_json = res.json()\n",
    "#                 if last_winning_price is not -1:\n",
    "#                     print(res_json) \n",
    "                print(res_json) \n",
    "                budget_left = res_json.get('budget_left')\n",
    "                price_paid = res_json.get('results')[count-1]['price']\n",
    "                won = price_paid > 0\n",
    "                if won:\n",
    "                    last_winning_price = price_paid\n",
    "                    count_won +=1\n",
    "                else:\n",
    "                    last_winning_price = -1\n",
    "                if budget_left <= 0:\n",
    "                    break\n",
    "\n",
    "                # information to determine the bid amount\n",
    "                bid_amount = bid_algorithm(budget_left, auction_id, last_bid, won, last_winning_price, last_two_aves, high_bid_warning, high_bid_count) # call your algorithm to determine how much to bid\n",
    "                last_bid = bid_amount\n",
    "                # create the body for the /bid request\n",
    "                body = {'team_id': team_id,\n",
    "                        'key': key,\n",
    "                        'auction_id': auction_id,\n",
    "                        'bid_amount': bid_amount }\n",
    "                r = requests.post(url + '/bid', json=body) \n",
    "#                 print(r.json()) \n",
    "\n",
    "\n",
    "        time.sleep(0.1) # please do this to avoid flooding the server\n",
    "        \n",
    "        if int(auction_id) == MAX_AUCTION_ID:\n",
    "            break\n",
    "    print(\"rounds: \", num, \"won: \", count_won, \"percentage: \", count_won/num)\n",
    "if __name__ is \"__main__\":\n",
    "    main()"
   ]
  },
  {
   "cell_type": "markdown",
   "metadata": {},
   "source": [
    "*Write your answer here*"
   ]
  },
  {
   "cell_type": "markdown",
   "metadata": {},
   "source": [
    "## Information Disclosure in Advertising Auctions\n",
    "\n",
    "In the real world of online advertising, consumers are heterogeneous in their preferences for products. Platforms that auction off ad slots may also aggregate information on consumers and provide that information to potential advertisers so that they can target individual agents. Advertisers now compete for consumer demand (price competition) as well as for a slot in the auction. Policies of information disclosure and consumer privacy change how advertisers bid and price their products.\n",
    "\n",
    "More information can be found in [Online Advertising and Privacy](https://www.law.northwestern.edu/research-faculty/searlecenter/workingpapers/documents/de_Corniere_Online_Advertising_and_Privacy.pdf) by de Corniere and de Nijs."
   ]
  },
  {
   "cell_type": "markdown",
   "metadata": {},
   "source": [
    "   <div class=\"alert alert-block alert-warning\">\n",
    "    <b>Problem 9.</b>  Discuss your intuition for bidding in auction where you're able to target consumers and increase your chance of getting a click. Compare your intuition with the ideas presented by de Corniere and de Nijs.\n",
    "    </div>"
   ]
  },
  {
   "cell_type": "markdown",
   "metadata": {},
   "source": [
    "Intuitively, if we are able to target consumers, our bid price structures would be arbitrary as long as we win a slot. This is because targeted consumers will be able to view all three advertisements regardless of the slot position. According to the research by Corniere and de Nijis, “the disclosure of information by the platform induces a shift in the demand function, which leads to an increase in the equilibrium price of goods.” In other words, they argue that because advertisers can target customers, they bid higher prices resulting in higher profits for publishers. These profits are also captured by bidders as click through rates are higher and advertisers are able to sell more goods to their targeted customers. "
   ]
  },
  {
   "cell_type": "markdown",
   "metadata": {},
   "source": [
    "## In-class Competition\n",
    "\n",
    "There will be an in-class auction on **Tuesday, 3 March**. At least one member of your team will need to bring a laptop to class that is setup and ready to run your auction client. For the in-class on-line auction, we will run auctions where all the teams in the class are competing participants. The in-class auction will consist of roughly 2500 consecutive auctions each (the actual number of rounds will be given by the `MAX_AUCTION_ID` variable)."
   ]
  },
  {
   "cell_type": "markdown",
   "metadata": {},
   "source": [
    "<div class=\"alert alert-block alert-danger\">\n",
    "    \n",
    "As with previous projects, submit your final Project 4 notebook by **Tuesday, 3 March, 9:29am** to a group slack containing you and your teammate and the four course staff: @Dave @Denis Nekipelov @Cam @Kyeongtak Do. After you submit your notebook, you will receive an API key that you will need to connect to the server for the in-class auction.\n",
    "\n",
    "You should include a comment at the top of the notebook that contains:\n",
    "\n",
    "The names and UVA email ids of the people submitting (you and your teammates)\n",
    "A note on anyone else you collaborated with and how, and external resources you used.\n",
    "\n",
    "</div>"
   ]
  },
  {
   "cell_type": "code",
   "execution_count": null,
   "metadata": {},
   "outputs": [],
   "source": []
  }
 ],
 "metadata": {
  "kernelspec": {
   "display_name": "Python 3",
   "language": "python",
   "name": "python3"
  },
  "language_info": {
   "codemirror_mode": {
    "name": "ipython",
    "version": 3
   },
   "file_extension": ".py",
   "mimetype": "text/x-python",
   "name": "python",
   "nbconvert_exporter": "python",
   "pygments_lexer": "ipython3",
   "version": "3.7.2"
  }
 },
 "nbformat": 4,
 "nbformat_minor": 2
}
